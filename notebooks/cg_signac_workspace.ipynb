{
 "cells": [
  {
   "cell_type": "code",
   "execution_count": 1,
   "id": "553284df",
   "metadata": {},
   "outputs": [],
   "source": [
    "import signac\n",
    "from polybinderCG.coarse_grain import System\n",
    "import os\n",
    "import gsd.hoomd"
   ]
  },
  {
   "cell_type": "code",
   "execution_count": 2,
   "id": "919ebf9c",
   "metadata": {},
   "outputs": [],
   "source": [
    "project = signac.get_project(\"../ua-target-runs/rg-re-pl-sweep/\")"
   ]
  },
  {
   "cell_type": "code",
   "execution_count": 3,
   "id": "a4078389",
   "metadata": {},
   "outputs": [
    {
     "name": "stderr",
     "output_type": "stream",
     "text": [
      "/home/chris/miniconda3/envs/msibi/lib/python3.9/site-packages/signac/contrib/project.py:1075: FutureWarning: The doc_filter argument was deprecated in version 1.7 and will be removed in version 3.0. Users should instead use a filter with a 'doc.' prefix. For example, `doc_filter={'foo': 'bar'}` is equivalent to `filter={'doc.foo': 'bar'}`. See https://docs.signac.io/en/latest/query.html#query-namespaces for more information.\n",
      "  warnings.warn(DOC_FILTER_WARNING, FutureWarning)\n",
      "/tmp/ipykernel_92282/3141390872.py:23: DeprecatedWarning: ws is deprecated as of 1.8 and will be removed in 2.0. Use Job.path instead.\n",
      "  file_path = os.path.join(job.ws, \"components.gsd\"),\n"
     ]
    }
   ],
   "source": [
    "for job in project.find_jobs(\n",
    "    {\"remove_hydrogens\": True}, {\"done\": True}\n",
    "):\n",
    "    if job.isfile(\"components.gsd\"):\n",
    "        continue\n",
    "    try:\n",
    "        sys = System(\n",
    "            compound=\"PEKK\",\n",
    "            gsd_file=job.fn(\"sim_traj.gsd\")\n",
    "        )\n",
    "    except:\n",
    "        print(job.id)\n",
    "        continue\n",
    "    \n",
    "    #for mol in sys.molecules:\n",
    "        #mol.sequence = job.doc.chain_sequences[0]\n",
    "        #mol.assign_types()\n",
    "    \n",
    "    for mon in sys.monomers():\n",
    "        mon.generate_components(index_mapping=\"ring_plus_linkage_UA\")\n",
    "            \n",
    "    sys.coarse_grain_trajectory(\n",
    "        file_path = os.path.join(job.ws, \"components.gsd\"),\n",
    "        first_frame=0,\n",
    "        last_frame=-1,\n",
    "        use_monomers=False,\n",
    "        use_components=True\n",
    "    )"
   ]
  },
  {
   "cell_type": "markdown",
   "id": "23b10be1",
   "metadata": {},
   "source": [
    "# Create GSDs for MSDs\n",
    "\n",
    "- Rename center chunk of particles, use those in MSD calcs"
   ]
  },
  {
   "cell_type": "code",
   "execution_count": null,
   "id": "e967611c",
   "metadata": {},
   "outputs": [],
   "source": [
    "project = signac.get_project(\"../../coarse-grain-sims/tm_ti_sweep/nvt-runs/\")"
   ]
  },
  {
   "cell_type": "code",
   "execution_count": null,
   "id": "9261f6e6",
   "metadata": {
    "scrolled": true
   },
   "outputs": [],
   "source": [
    "for job in project.find_jobs():\n",
    "    if job.isfile(\"cg_msd_traj.gsd\"):\n",
    "        continue\n",
    "    sys = System(gsd_file=job.fn(\"sim_traj.gsd\"), atoms_per_monomer=1)\n",
    "    for mol in sys.molecules:\n",
    "        mol.sequence = \"EKK\"\n",
    "        mol.assign_types()\n",
    "    sys.rename_center_chunk(chunk_size=15, use_monomers=True)\n",
    "    sys.coarse_grain_trajectory(\n",
    "        file_path = os.path.join(job.ws, \"cg_msd_traj.gsd\"),\n",
    "        first_frame=0,\n",
    "        last_frame=-1,\n",
    "        use_monomers=True\n",
    "    )"
   ]
  },
  {
   "cell_type": "markdown",
   "id": "c1f56a43",
   "metadata": {},
   "source": [
    "# Copy the CG'd gsd files to descriptive file names in the workspace dir:"
   ]
  },
  {
   "cell_type": "code",
   "execution_count": null,
   "id": "9e1ff2a7",
   "metadata": {},
   "outputs": [],
   "source": [
    "import shutil\n",
    "\n",
    "for job in project.find_jobs(filter={\"remove_hydrogens\": True}):\n",
    "    fname = f\"{job.sp.para_weight}pm.gsd\"\n",
    "    shutil.copyfile(\n",
    "        job.fn(\"components.gsd\"), os.path.join(project.workspace(),\"..\",fname)\n",
    "    )"
   ]
  },
  {
   "cell_type": "code",
   "execution_count": null,
   "id": "72bc1779",
   "metadata": {},
   "outputs": [],
   "source": [
    "print(project.workspace())"
   ]
  }
 ],
 "metadata": {
  "kernelspec": {
   "display_name": "Python 3 (ipykernel)",
   "language": "python",
   "name": "python3"
  },
  "language_info": {
   "codemirror_mode": {
    "name": "ipython",
    "version": 3
   },
   "file_extension": ".py",
   "mimetype": "text/x-python",
   "name": "python",
   "nbconvert_exporter": "python",
   "pygments_lexer": "ipython3",
   "version": "3.9.16"
  }
 },
 "nbformat": 4,
 "nbformat_minor": 5
}
