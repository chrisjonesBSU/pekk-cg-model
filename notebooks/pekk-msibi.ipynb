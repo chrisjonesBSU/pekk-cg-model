{
 "cells": [
  {
   "cell_type": "code",
   "execution_count": 1,
   "id": "2baadd77",
   "metadata": {},
   "outputs": [],
   "source": [
    "from msibi import MSIBI, State, Pair, Bond, Angle\n",
    "import gsd\n",
    "import gsd.hoomd\n",
    "import time\n",
    "import matplotlib.pyplot as plt\n",
    "import math\n",
    "import numpy as np"
   ]
  },
  {
   "cell_type": "code",
   "execution_count": null,
   "id": "a525c431",
   "metadata": {},
   "outputs": [],
   "source": [
    "%%bash\n",
    "\n",
    "for dir in \"states\" \"rdfs\" \"potentials\"\n",
    "do\n",
    "    if [ -d $dir ]\n",
    "    then\n",
    "        rm -r $dir\n",
    "    fi\n",
    "done"
   ]
  },
  {
   "cell_type": "code",
   "execution_count": null,
   "id": "6d8499fb",
   "metadata": {},
   "outputs": [],
   "source": [
    "cg_traj_files = [\n",
    "    \"4.1kT.gsd\",\n",
    "    \"5.5kT.gsd\",\n",
    "    \"6.5kT.gsd\"\n",
    "]"
   ]
  },
  {
   "cell_type": "code",
   "execution_count": null,
   "id": "825c0640",
   "metadata": {},
   "outputs": [],
   "source": [
    "opt = MSIBI(\n",
    "    integrator=\"hoomd.md.integrate.nvt\",\n",
    "    integrator_kwargs={\"tau\": 0.1},\n",
    "    dt=0.001,\n",
    "    gsd_period=20000,\n",
    "    n_steps=2e6,\n",
    "    max_frames=200,\n",
    "    verbose=False\n",
    ")"
   ]
  },
  {
   "cell_type": "markdown",
   "id": "fa300b84",
   "metadata": {},
   "source": [
    "## Add States"
   ]
  },
  {
   "cell_type": "code",
   "execution_count": null,
   "id": "e03d7c22",
   "metadata": {},
   "outputs": [],
   "source": [
    "opt.add_state(\n",
    "    State(name=\"A\", kT=4.1, traj_file=cg_traj_files[0], alpha=1.0)\n",
    ")\n",
    "#opt.add_state(\n",
    "#    State(name=\"B\", kT=5.5, traj_file=cg_traj_files[1], alpha=0.40)\n",
    "#)\n",
    "#opt.add_state(\n",
    "#    State(name=\"C\", kT=6.2, traj_file=cg_traj_files[2], alpha=0.30)\n",
    "#)"
   ]
  },
  {
   "cell_type": "markdown",
   "id": "9fd83213",
   "metadata": {},
   "source": [
    "## Add Pairs"
   ]
  },
  {
   "cell_type": "code",
   "execution_count": null,
   "id": "93b414b2",
   "metadata": {},
   "outputs": [],
   "source": [
    "pair0 = Pair(type1=\"E\", type2=\"E\")\n",
    "pair1 = Pair(type1=\"K\", type2=\"K\")\n",
    "pair2 = Pair(type1=\"E\", type2=\"K\")\n",
    "for pair in [pair0, pair1, pair2]:\n",
    "    #pair.set_table_potential(epsilon=1, sigma=1, r_min=1e-4, r_max=4.0, n_points=101)\n",
    "    #pair.set_gauss(epsilon=1, sigma=1.0, r_cut=3.5)\n",
    "    pair.set_lj(epsilon=1, sigma=1, r_cut=2.5)\n",
    "    opt.add_pair(pair)"
   ]
  },
  {
   "cell_type": "markdown",
   "id": "dcc947b4",
   "metadata": {},
   "source": [
    "## Add Bonds"
   ]
  },
  {
   "cell_type": "code",
   "execution_count": null,
   "id": "49578898",
   "metadata": {},
   "outputs": [],
   "source": [
    "bond0 = Bond(type1=\"E\", type2=\"K\")\n",
    "bond1 = Bond(type1=\"K\", type2=\"K\")\n",
    "\n",
    "bond0.set_quadratic(k2=50, l0=1.5, k3=0, k4=0, l_min=0, l_max=3.0, n_points=200)\n",
    "bond1.set_quadratic(k2=50, l0=1.5, k3=0, k4=0, l_min=0, l_max=3.0, n_points=200)\n",
    "#bond0.set_harmonic(k=50, l0=1.5)\n",
    "#bond1.set_harmonic(k=50, l0=1.5)\n",
    "bond0_init_pot = np.copy(bond0.potential)\n",
    "bond1_init_pot = np.copy(bond1.potential)\n",
    "opt.add_bond(bond0)\n",
    "opt.add_bond(bond1)"
   ]
  },
  {
   "cell_type": "markdown",
   "id": "fdd20a9c",
   "metadata": {},
   "source": [
    "## Add Angles"
   ]
  },
  {
   "cell_type": "code",
   "execution_count": null,
   "id": "07f99444",
   "metadata": {},
   "outputs": [],
   "source": [
    "angle0 = Angle(type1=\"E\", type2=\"K\", type3=\"K\")\n",
    "angle1 = Angle(type1=\"K\", type2=\"E\", type3=\"K\")\n",
    "\n",
    "angle0.set_harmonic(k=5, theta0=1.0)\n",
    "angle1.set_harmonic(k=5, theta0=1.2)\n",
    "\n",
    "#angle0.set_quadratic(k2=1, theta0=2.3, k3=0, k4=0, n_points=30)\n",
    "#angle1.set_quadratic(k2=1, theta0=2.3, k3=0, k4=0, n_points=30)\n",
    "\n",
    "opt.add_angle(angle0)\n",
    "opt.add_angle(angle1)"
   ]
  },
  {
   "cell_type": "markdown",
   "id": "67458bc1",
   "metadata": {},
   "source": [
    "## Run Pair Optimization Iterations"
   ]
  },
  {
   "cell_type": "code",
   "execution_count": null,
   "id": "3589f244",
   "metadata": {
    "scrolled": false
   },
   "outputs": [],
   "source": [
    "opt.optimize_bonds(n_iterations=1)"
   ]
  },
  {
   "cell_type": "code",
   "execution_count": null,
   "id": "d5d1aacc",
   "metadata": {},
   "outputs": [],
   "source": [
    "bond = opt.bonds[0]\n",
    "bond2 = opt.bonds[1]\n",
    "stateA = opt.states[0]"
   ]
  },
  {
   "cell_type": "code",
   "execution_count": null,
   "id": "1dd038c3",
   "metadata": {},
   "outputs": [],
   "source": [
    "plt.plot(bond0.l_range, bond0_init_pot)"
   ]
  },
  {
   "cell_type": "code",
   "execution_count": null,
   "id": "9624b861",
   "metadata": {},
   "outputs": [],
   "source": [
    "fig = plt.figure()\n",
    "plt.plot(\n",
    "    bond._states[stateA][\"target_distribution\"][:,0],\n",
    "    bond._states[stateA][\"target_distribution\"][:,1],\n",
    "    \"o-\",\n",
    "    label=\"target\"\n",
    ")\n",
    "\n",
    "plt.plot(\n",
    "    bond._states[stateA][\"current_distribution\"][:,0],\n",
    "    bond._states[stateA][\"current_distribution\"][:,1],\n",
    "    \"o-\",\n",
    "    label=\"current\"\n",
    ")\n",
    "\n",
    "plt.xlim(0.5, 2.5)\n",
    "plt.legend()"
   ]
  },
  {
   "cell_type": "code",
   "execution_count": null,
   "id": "d70d0f7a",
   "metadata": {},
   "outputs": [],
   "source": [
    "fig = plt.figure()\n",
    "plt.plot(bond0.l_range, bond0.potential, label=\"1\")\n",
    "plt.plot(bond0.l_range, bond0.previous_potential, label=\"0\")\n",
    "plt.ylim(-1, 100)\n",
    "plt.legend()"
   ]
  },
  {
   "cell_type": "code",
   "execution_count": null,
   "id": "d1b5fcfd",
   "metadata": {},
   "outputs": [],
   "source": [
    "new_pot = np.copy(bond0_init_pot)"
   ]
  },
  {
   "cell_type": "code",
   "execution_count": null,
   "id": "b1dcf32b",
   "metadata": {},
   "outputs": [],
   "source": [
    "# If the target dist is zero, do..."
   ]
  },
  {
   "cell_type": "code",
   "execution_count": null,
   "id": "e4dd8cc2",
   "metadata": {},
   "outputs": [],
   "source": [
    "kT = stateA.kT\n",
    "current_dist = bond._states[stateA][\"current_distribution\"][:,1]\n",
    "target_dist = bond._states[stateA][\"target_distribution\"][:,1]\n",
    "N = len(bond0._states)"
   ]
  },
  {
   "cell_type": "code",
   "execution_count": null,
   "id": "88baaa91",
   "metadata": {
    "scrolled": false
   },
   "outputs": [],
   "source": [
    "for i,j in zip(current_dist, target_dist):\n",
    "    print(i, j)\n",
    "    print(i/j)\n",
    "    print()"
   ]
  },
  {
   "cell_type": "code",
   "execution_count": null,
   "id": "731fe6ef",
   "metadata": {},
   "outputs": [],
   "source": [
    "real_indices = np.where(np.isfinite(bond.potential))"
   ]
  },
  {
   "cell_type": "code",
   "execution_count": null,
   "id": "d3f09ffb",
   "metadata": {},
   "outputs": [],
   "source": [
    "np.ediff1d(real_indices)"
   ]
  },
  {
   "cell_type": "code",
   "execution_count": null,
   "id": "db2d289e",
   "metadata": {},
   "outputs": [],
   "source": [
    "np.all(np.ediff1d(real_indices) == 1)"
   ]
  },
  {
   "cell_type": "code",
   "execution_count": null,
   "id": "b658c37d",
   "metadata": {},
   "outputs": [],
   "source": [
    "np.where(np.logical_or(np.isnan(bond.potential), np.isposinf(bond.potential)))"
   ]
  },
  {
   "cell_type": "code",
   "execution_count": null,
   "id": "f75dfc14",
   "metadata": {},
   "outputs": [],
   "source": []
  },
  {
   "cell_type": "code",
   "execution_count": null,
   "id": "70e7a2ff",
   "metadata": {},
   "outputs": [],
   "source": [
    "plt.plot(bond.l_range, bond._states[opt.states[0]][\"target_distribution\"][:,1])"
   ]
  },
  {
   "cell_type": "code",
   "execution_count": null,
   "id": "50edef44",
   "metadata": {},
   "outputs": [],
   "source": [
    "for pair in [pair0, pair1, pair2]:\n",
    "    print(pair._potential_file)\n",
    "    print(pair.pair_init)\n",
    "    print(pair.pair_entry)"
   ]
  },
  {
   "cell_type": "code",
   "execution_count": null,
   "id": "36beac40-8ffc-4c2e-991b-8f49779c1917",
   "metadata": {},
   "outputs": [],
   "source": [
    "import matplotlib.pyplot as plt\n",
    "import numpy as np"
   ]
  },
  {
   "cell_type": "code",
   "execution_count": null,
   "id": "d4146cc8-de46-42a6-ba7f-0560c3d233ef",
   "metadata": {
    "scrolled": false
   },
   "outputs": [],
   "source": [
    "%matplotlib inline\n",
    "for step in range(0, opt.n_iterations):\n",
    "    plt.ylim([-1.5,3])\n",
    "    plt.xlim([0.5,5])\n",
    "    plt.title(\"MSIBI potentials by iteration\")\n",
    "\n",
    "    step_pot = np.loadtxt(f'potentials/step{step}.pot.P-M.txt')\n",
    "    plt.plot(step_pot[:,0],step_pot[:,1], label=f'step {step}')\n",
    "    \n",
    "plt.title(\"PM Pair\")\n",
    "#plt.legend()\n",
    "plt.show()\n",
    "\n",
    "for step in range(0, opt.n_iterations):\n",
    "    plt.ylim([-1.5,3])\n",
    "    plt.xlim([0.5,5])\n",
    "    plt.title(\"MSIBI potentials by iteration\")\n",
    "\n",
    "    step_pot = np.loadtxt(f'potentials/step{step}.pot.P-P.txt')\n",
    "    plt.plot(step_pot[:,0],step_pot[:,1], label=f'step {step}')\n",
    "\n",
    "plt.title(\"PP Pair\")\n",
    "#plt.legend()\n",
    "plt.show()\n",
    "\n",
    "for step in range(0, opt.n_iterations):\n",
    "    plt.ylim([-1.5,3])\n",
    "    plt.xlim([0.5,5])\n",
    "    plt.title(\"MSIBI potentials by iteration\")\n",
    "\n",
    "    step_pot = np.loadtxt(f'potentials/step{step}.pot.M-M.txt')\n",
    "    plt.plot(step_pot[:,0],step_pot[:,1], label=f'step {step}')\n",
    "\n",
    "plt.title(\"MM Pair\")\n",
    "#plt.legend()\n",
    "plt.show()"
   ]
  },
  {
   "cell_type": "code",
   "execution_count": null,
   "id": "957bdd96-0c80-4632-aec9-614b3c217a97",
   "metadata": {},
   "outputs": [],
   "source": [
    "%matplotlib inline\n",
    "for step in range(opt.n_iterations - 1, opt.n_iterations):\n",
    "    plt.ylim([-1.5,4])\n",
    "    plt.xlim([0,5])\n",
    "    plt.title(\"MSIBI potentials by iteration\")\n",
    "\n",
    "    step_pot = np.loadtxt(f'potentials/step{step}.pot.P-M.txt')\n",
    "    plt.plot(step_pot[:,0],step_pot[:,1], label=f'step {step}')\n",
    "    \n",
    "plt.title(\"PM Pair\")\n",
    "#plt.legend()\n",
    "plt.show()\n",
    "\n",
    "for step in range(opt.n_iterations - 1, opt.n_iterations):\n",
    "    plt.ylim([-1.5,4])\n",
    "    plt.xlim([0,5])\n",
    "    plt.title(\"MSIBI potentials by iteration\")\n",
    "\n",
    "    step_pot = np.loadtxt(f'potentials/step{step}.pot.P-P.txt')\n",
    "    plt.plot(step_pot[:,0],step_pot[:,1], label=f'step {step}')\n",
    "\n",
    "plt.title(\"PP Pair\")\n",
    "#plt.legend()\n",
    "plt.show()\n",
    "\n",
    "for step in range(opt.n_iterations - 1, opt.n_iterations):\n",
    "    plt.ylim([-1.5,4])\n",
    "    plt.xlim([0,5])\n",
    "    plt.title(\"MSIBI potentials by iteration\")\n",
    "\n",
    "    step_pot = np.loadtxt(f'potentials/step{step}.pot.M-M.txt')\n",
    "    plt.plot(step_pot[:,0],step_pot[:,1], label=f'step {step}')\n",
    "\n",
    "plt.title(\"MM Pair\")\n",
    "#plt.legend()\n",
    "plt.show()"
   ]
  },
  {
   "cell_type": "code",
   "execution_count": null,
   "id": "12db773a",
   "metadata": {},
   "outputs": [],
   "source": []
  }
 ],
 "metadata": {
  "kernelspec": {
   "display_name": "Python 3 (ipykernel)",
   "language": "python",
   "name": "python3"
  },
  "language_info": {
   "codemirror_mode": {
    "name": "ipython",
    "version": 3
   },
   "file_extension": ".py",
   "mimetype": "text/x-python",
   "name": "python",
   "nbconvert_exporter": "python",
   "pygments_lexer": "ipython3",
   "version": "3.9.13"
  }
 },
 "nbformat": 4,
 "nbformat_minor": 5
}
