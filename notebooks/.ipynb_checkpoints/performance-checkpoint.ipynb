{
 "cells": [
  {
   "cell_type": "code",
   "execution_count": null,
   "id": "bd4365ce",
   "metadata": {},
   "outputs": [],
   "source": [
    "import signac\n",
    "import matplotlib.pyplot as plt\n",
    "import numpy as np\n",
    "\n",
    "import gsd.hoomd\n",
    "\n",
    "# Matplotlib RC Params:    \n",
    "color_dict = {1.0: \"#0F0E0F\", 0.8: \"#666666\", 0.7: \"#964d4d\", 0.6: \"#d03f3f\"}\n",
    "plt.rcParams[\"figure.figsize\"] = (3, 3)\n",
    "plt.rcParams[\"axes.labelsize\"] = 12\n",
    "plt.rcParams[\"legend.fontsize\"] = 7\n",
    "plt.rcParams['lines.markersize'] = 3\n",
    "plt.rcParams[\"lines.linestyle\"] = \"-\"\n",
    "plt.rcParams[\"lines.marker\"] = \"o\"\n",
    "plt.rcParams[\"lines.linewidth\"] = 1\n",
    "plt.rcParams[\"figure.dpi\"] = 1200"
   ]
  },
  {
   "cell_type": "code",
   "execution_count": null,
   "id": "36a38da8",
   "metadata": {},
   "outputs": [],
   "source": [
    "project = signac.get_project(\n",
    "    \"../coarse-grain-sims/performance/flow-templates/flow-templates/flowermd/flowermd-nvt/\"\n",
    ")"
   ]
  },
  {
   "cell_type": "code",
   "execution_count": null,
   "id": "e163c699",
   "metadata": {},
   "outputs": [],
   "source": [
    "cg_tps = []\n",
    "aa_tps = []\n",
    "ua_tps = []\n",
    "aa_n_monomers = []\n",
    "ua_n_monomers = []\n",
    "cg_n_monomers = []\n",
    "n_monomers = []\n",
    "\n",
    "for N, jobs in project.find_jobs().groupby(\"doc.n_duplicates\"):\n",
    "    if N == 0:\n",
    "        N = 1\n",
    "    for job in jobs:\n",
    "        try:\n",
    "            if N == 1:\n",
    "                data = np.genfromtxt(job.fn(\"seed-log.txt\"), names=True)\n",
    "            else:\n",
    "                data = np.genfromtxt(job.fn(\"sim_data.txt\"), names=True)\n",
    "                \n",
    "            tps = data[\"flowermdbasesimulationSimulationtps\"]\n",
    "            if job.sp.coarse_grain:\n",
    "                cg_tps.append(np.mean(tps[-10:]))\n",
    "            else:\n",
    "                if not job.sp.remove_hydrogens:\n",
    "                    aa_tps.append(np.mean(tps[-10:]))\n",
    "                else:\n",
    "                    ua_tps.append(np.mean(tps[-10:]))\n",
    "        except:\n",
    "            print(job.id)\n",
    "    n_monomers.append(job.doc.n_monomers)"
   ]
  },
  {
   "cell_type": "code",
   "execution_count": null,
   "id": "84c8d232-9062-40af-909f-2297fea8825c",
   "metadata": {},
   "outputs": [],
   "source": [
    "plt.plot(n_monomers, ua_tps, \"o-\", label=\"U.A. Model\")\n",
    "plt.plot(n_monomers, cg_tps, \"o-\", label=\"C.G. Model\")\n",
    "plt.xlabel(\"$N_{monomers}$\")\n",
    "plt.ylabel(\"TPS\")\n",
    "plt.xscale(\"log\")\n",
    "plt.legend()\n",
    "plt.tight_layout()\n",
    "plt.savefig(\"figures/tps.png\")"
   ]
  },
  {
   "cell_type": "code",
   "execution_count": null,
   "id": "f0e6931b-f429-47f5-b3b7-e5855ea0d345",
   "metadata": {},
   "outputs": [],
   "source": [
    "plt.plot(n_monomers, np.array(cg_tps)//np.array(ua_tps), \"o-\", label=\"CG / UA\")\n",
    "plt.xlabel(\"N monomers\")\n",
    "plt.ylabel(\"TPS Ratio\")\n",
    "plt.legend()"
   ]
  },
  {
   "cell_type": "code",
   "execution_count": null,
   "id": "cb8bcdb5-092d-4fe1-9583-0570cfbc9758",
   "metadata": {},
   "outputs": [],
   "source": [
    "for i, j, k in zip(cg_n_monomers, cg_tps, aa_tps):\n",
    "    print(i, int(j), int(k), print(j/k)"
   ]
  }
 ],
 "metadata": {
  "kernelspec": {
   "display_name": "Python 3 (ipykernel)",
   "language": "python",
   "name": "python3"
  },
  "language_info": {
   "codemirror_mode": {
    "name": "ipython",
    "version": 3
   },
   "file_extension": ".py",
   "mimetype": "text/x-python",
   "name": "python",
   "nbconvert_exporter": "python",
   "pygments_lexer": "ipython3",
   "version": "3.11.9"
  }
 },
 "nbformat": 4,
 "nbformat_minor": 5
}
