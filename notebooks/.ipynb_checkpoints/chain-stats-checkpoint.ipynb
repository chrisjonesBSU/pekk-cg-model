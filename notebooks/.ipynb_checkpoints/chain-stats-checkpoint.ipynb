{
 "cells": [
  {
   "cell_type": "code",
   "execution_count": null,
   "id": "fe85979c-3f1e-466e-8577-5a5ca88f0f3c",
   "metadata": {},
   "outputs": [],
   "source": [
    "import signac\n",
    "import matplotlib.pyplot as plt\n",
    "import numpy as np\n",
    "from cmeutils.polymers import(\n",
    "    radius_of_gyration,\n",
    "    end_to_end_distance,\n",
    "    persistence_length\n",
    ")\n",
    "from cmeutils.sampling import equil_sample\n",
    "import gsd.hoomd\n",
    "import freud\n",
    "import scipy\n",
    "import random\n",
    "from scipy import stats"
   ]
  },
  {
   "cell_type": "code",
   "execution_count": null,
   "id": "ab4576b0-79f6-425c-b377-6ac431381ed4",
   "metadata": {},
   "outputs": [],
   "source": [
    "color_dict = {1.0: \"#0F0E0F\", 0.8: \"#666666\", 0.7: \"#964d4d\", 0.6: \"#d03f3f\"}\n",
    "symbol_dict = {1.0: \"o\", 0.8: \"s\", 0.7: \"^\", 0.6: \"d\"}\n",
    "pair_symbol_dict = {\"E-E\": \"o\", \"K-K\": \"s\", \"E-K\": \"^\"}\n",
    "plt.rcParams[\"figure.figsize\"] = (3, 3)\n",
    "plt.rcParams[\"axes.labelsize\"] = 12\n",
    "plt.rcParams[\"legend.fontsize\"] = 7\n",
    "plt.rcParams['lines.markersize'] = 4\n",
    "plt.rcParams[\"lines.linestyle\"] = \"-\"\n",
    "plt.rcParams[\"lines.marker\"] = \"o\"\n",
    "plt.rcParams[\"lines.linewidth\"] = 1\n",
    "plt.rcParams[\"figure.dpi\"] = 1200\n",
    "label_conv = {\n",
    "    0.60: \"60/40\",\n",
    "    0.70: \"70/30\",\n",
    "    0.80: \"80/20\",\n",
    "    1.0: \"100/0\",\n",
    "}"
   ]
  },
  {
   "cell_type": "code",
   "execution_count": null,
   "id": "bbc1c985-34cc-432e-98e5-2db31fd4fa26",
   "metadata": {},
   "outputs": [],
   "source": [
    "# ua project\n",
    "project = signac.get_project(\"../ua-target-runs/rg-re-pl-sweep/\")\n",
    "\n",
    "# cg project\n",
    "cg_project = signac.get_project(\"../coarse-grain-sims/single-chain-pl-rg-re/polybinder-flow/\")"
   ]
  },
  {
   "cell_type": "code",
   "execution_count": null,
   "id": "246e7bc7-736e-4b9c-ab94-8657012ff3b5",
   "metadata": {},
   "outputs": [],
   "source": [
    "def cohen_d(data1, data2):\n",
    "    # Calculate the means\n",
    "    mean1, mean2 = np.mean(data1), np.mean(data2)\n",
    "    # Calculate the standard deviations\n",
    "    std1, std2 = np.std(data1, ddof=1), np.std(data2, ddof=1)\n",
    "    # Sample sizes\n",
    "    n1, n2 = len(data1), len(data2)\n",
    "    # Calculate the pooled standard deviation\n",
    "    pooled_std = np.sqrt(((n1 - 1) * std1**2 + (n2 - 1) * std2**2) / (n1 + n2 - 2))\n",
    "    # Calculate Cohen's d\n",
    "    d = (mean1 - mean2) / pooled_std\n",
    "    \n",
    "    return d"
   ]
  },
  {
   "cell_type": "markdown",
   "id": "12722dac-dde6-4dc7-9b69-06ec97e925cd",
   "metadata": {},
   "source": [
    "# Radius of Gyration:"
   ]
  },
  {
   "cell_type": "markdown",
   "id": "250ab171-a6a0-4ae5-80c2-a11e72bb9f41",
   "metadata": {},
   "source": [
    "### T/I Ratio sweep at constant kT"
   ]
  },
  {
   "cell_type": "code",
   "execution_count": null,
   "id": "34da05fa-ec95-40a5-a283-9e534d20b28b",
   "metadata": {},
   "outputs": [],
   "source": [
    "kT = 5.0\n",
    "ti_ratio_range = [0.60, 0.70, 0.80, 1.0]"
   ]
  },
  {
   "cell_type": "markdown",
   "id": "f3da1d47-6d9e-47de-a18d-c38c0aba32fc",
   "metadata": {},
   "source": [
    "#### UA Model"
   ]
  },
  {
   "cell_type": "code",
   "execution_count": null,
   "id": "4cf3281d-00eb-41b1-918a-146b014ff7e8",
   "metadata": {},
   "outputs": [],
   "source": [
    "ua_ti_ratios = []\n",
    "ua_rg_means = []\n",
    "ua_rg_stds = []\n",
    "ua_raw_data = dict()\n",
    "\n",
    "for ti_ratio in ti_ratio_range:\n",
    "    for job in project.find_jobs(\n",
    "        {\"polymer_lengths\": [20],\n",
    "         \"kT_quench\": kT,\n",
    "         \"para_weight\": ti_ratio,\n",
    "         \"system_seed\": 24\n",
    "    }):\n",
    "        rg_means, rg_stds, rg_values = radius_of_gyration(job.fn(\"sim_traj.gsd\"), start=10, stop=-1)\n",
    "        uncorr_sample, uncorr_indices, start, neff = equil_sample(np.array(rg_means))\n",
    "        ua_raw_data[ti_ratio] = uncorr_sample**2\n",
    "        job.doc.rg_mean = np.mean(uncorr_sample**2)\n",
    "        job.doc.rg_std = np.std(uncorr_sample**2)\n",
    "        job.doc.rg_sem = scipy.stats.sem(uncorr_sample**2)\n",
    "        ua_rg_means.append(job.doc.rg_mean)\n",
    "        ua_rg_stds.append(job.doc.rg_std)\n",
    "        ua_ti_ratios.append(ti_ratio)"
   ]
  },
  {
   "cell_type": "markdown",
   "id": "1a0df857-a2a6-4afd-bf84-9a889695761d",
   "metadata": {},
   "source": [
    "#### CG Model"
   ]
  },
  {
   "cell_type": "code",
   "execution_count": null,
   "id": "c9ecafb6-ee38-491f-bed7-26d6f7acbd77",
   "metadata": {},
   "outputs": [],
   "source": [
    "cg_ti_ratios = []\n",
    "cg_rg_means = []\n",
    "cg_rg_stds = []\n",
    "cg_raw_data = dict()\n",
    "\n",
    "for ti_ratio in ti_ratio_range:\n",
    "    for job in cg_project.find_jobs(\n",
    "        {\"polymer_lengths\": [20],\n",
    "         \"kT_quench\": kT,\n",
    "         \"ekk_weight\": ti_ratio,\n",
    "         \"cg_potentials_dir\": \"msibi-deep\"\n",
    "    }):\n",
    "        rg_means, rg_stds, rg_values = radius_of_gyration(job.fn(\"sim_traj.gsd\"), start=10, stop=-1)\n",
    "        uncorr_sample, uncorr_indices, start, neff = equil_sample(np.array(rg_means))\n",
    "        cg_raw_data[ti_ratio] = uncorr_sample**2\n",
    "        job.doc.rg_mean = np.mean(uncorr_sample**2)\n",
    "        job.doc.rg_std = np.std(uncorr_sample**2)\n",
    "        job.doc.rg_sem = scipy.stats.sem(uncorr_sample**2)\n",
    "        cg_rg_means.append(job.doc.rg_mean)\n",
    "        cg_rg_stds.append(job.doc.rg_std)\n",
    "        cg_ti_ratios.append(ti_ratio)"
   ]
  },
  {
   "cell_type": "markdown",
   "id": "5025203b-4f6e-4d2d-b938-5c4d6d28d0c9",
   "metadata": {},
   "source": [
    "#### T-Test for T/I ratio sweep"
   ]
  },
  {
   "cell_type": "code",
   "execution_count": null,
   "id": "fac4768f-a9d4-4253-aa84-0378f3f0f31f",
   "metadata": {},
   "outputs": [],
   "source": [
    "ttest_results = dict()\n",
    "\n",
    "for ti_ratio in cg_raw_data.keys():\n",
    "    ua_sample = ua_raw_data[ti_ratio]\n",
    "    cg_sample = cg_raw_data[ti_ratio]\n",
    "    random_start_index = random.randint(0, len(cg_sample) - len(ua_sample) + 1)\n",
    "    random_end_index = random_start_index + len(ua_sample)\n",
    "    t_stat, p_value = stats.ttest_ind(ua_sample, cg_sample[random_start_index:random_end_index])\n",
    "    d = cohen_d(ua_sample, cg_sample)\n",
    "    ttest_results[ti_ratio] = dict(t_stat=t_stat, p_value=p_value, d=d)\n",
    "    \n",
    "for ti_ratio in ttest_results.keys():\n",
    "    print(ti_ratio, ttest_results[ti_ratio])"
   ]
  },
  {
   "cell_type": "markdown",
   "id": "73468124-e054-43e4-bbaf-f6fd82e74638",
   "metadata": {},
   "source": [
    "#### Plot"
   ]
  },
  {
   "cell_type": "code",
   "execution_count": null,
   "id": "16ab8d66-5e16-4b5f-89af-cd40060f2c5a",
   "metadata": {},
   "outputs": [],
   "source": [
    "fig, ax = plt.subplots()\n",
    "ax.errorbar(x=ua_ti_ratios, y=ua_rg_means, yerr=ua_rg_stds, color=\"#0F0E0F\", label=\"U.A. Target\", linestyle=\"\", marker=\"o\")\n",
    "ax.errorbar(x=cg_ti_ratios, y=cg_rg_means, yerr=cg_rg_stds, color=\"#d03f3f\", label=\"C.G. Model\", linestyle=\"\", marker=\"o\")\n",
    "ax.set_xticks([0.60, 0.70, 0.80, 1.0])\n",
    "ax.set_xticklabels([\"60/40\", \"70/30\", \"80/20\", \"100/0\"], )\n",
    "ax.tick_params(axis=\"x\", labelsize=8)\n",
    "plt.ylabel(\"$R_g^2\\,[\\sigma^2]$\")\n",
    "plt.xlabel(\"TI Ratio\")\n",
    "plt.legend()\n",
    "plt.ylim(7, 15)\n",
    "plt.tight_layout()\n",
    "plt.savefig(f\"figures/rg_comparison_{kT}kT.png\")"
   ]
  },
  {
   "cell_type": "markdown",
   "id": "4236087a-8e23-4780-8dfe-2a39953d78f2",
   "metadata": {},
   "source": [
    "### kT sweep at constant T/I ratio"
   ]
  },
  {
   "cell_type": "code",
   "execution_count": null,
   "id": "369c572b-1f0a-4ff6-b1e5-2386004e1736",
   "metadata": {},
   "outputs": [],
   "source": [
    "ti_ratio = 0.80\n",
    "kT_range = [4.0, 4.5, 5.0, 5.5, 6.0]"
   ]
  },
  {
   "cell_type": "markdown",
   "id": "9f3f09f6-92c5-43e8-9870-3f0a1a3dee4e",
   "metadata": {},
   "source": [
    "#### UA Model"
   ]
  },
  {
   "cell_type": "code",
   "execution_count": null,
   "id": "13083896-1871-48f3-8442-7fe8d7865d4d",
   "metadata": {},
   "outputs": [],
   "source": [
    "ua_temps = []\n",
    "ua_rg_means = []\n",
    "ua_rg_stds = []\n",
    "ua_raw_data = dict()\n",
    "\n",
    "for kT in kT_range:\n",
    "    for job in project.find_jobs(\n",
    "        {\"polymer_lengths\": [20],\n",
    "         \"kT_quench\": kT,\n",
    "         \"para_weight\": ti_ratio,\n",
    "         \"system_seed\": 24\n",
    "    }):\n",
    "        rg_means, rg_stds, rg_values = radius_of_gyration(job.fn(\"sim_traj.gsd\"), start=10, stop=-1)\n",
    "        uncorr_sample, uncorr_indices, start, neff = equil_sample(np.array(rg_means))\n",
    "        ua_raw_data[kT] = uncorr_sample**2\n",
    "        job.doc.rg_mean = np.mean(uncorr_sample**2)\n",
    "        job.doc.rg_std = np.std(uncorr_sample**2)\n",
    "        job.doc.rg_sem = scipy.stats.sem(uncorr_sample**2)\n",
    "        ua_rg_means.append(job.doc.rg_mean)\n",
    "        ua_rg_stds.append(job.doc.rg_std)\n",
    "        ua_temps.append(kT)"
   ]
  },
  {
   "cell_type": "markdown",
   "id": "be8be9f4-db17-462d-9af0-d7a238bc59ed",
   "metadata": {},
   "source": [
    "#### CG Model"
   ]
  },
  {
   "cell_type": "code",
   "execution_count": null,
   "id": "c0780d14-3612-4f61-8470-8e10372cf98e",
   "metadata": {},
   "outputs": [],
   "source": [
    "cg_temps = []\n",
    "cg_rg_means = []\n",
    "cg_rg_stds = []\n",
    "cg_raw_data = dict()\n",
    "\n",
    "for kT in [4.0, 4.5, 5.0, 5.5, 6.0]:\n",
    "    rg_averages = []\n",
    "    rg_std_dev = []\n",
    "    for job in cg_project.find_jobs(\n",
    "        {\"polymer_lengths\": [20],\n",
    "         \"kT_quench\": kT,\n",
    "         \"ekk_weight\": ti_ratio,\n",
    "         \"cg_potentials_dir\": \"msibi-deep\"\n",
    "    }):\n",
    "        rg_means, rg_stds, rg_values = radius_of_gyration(job.fn(\"sim_traj.gsd\"), start=10, stop=-1)\n",
    "        uncorr_sample, uncorr_indices, start, neff = equil_sample(np.array(rg_means))\n",
    "        cg_raw_data[kT] = uncorr_sample**2\n",
    "        job.doc.rg_mean = np.mean(uncorr_sample**2)\n",
    "        job.doc.rg_std = np.std(uncorr_sample**2)\n",
    "        job.doc.rg_sem = scipy.stats.sem(uncorr_sample**2)\n",
    "        cg_rg_means.append(job.doc.rg_mean)\n",
    "        cg_rg_stds.append(job.doc.rg_std)\n",
    "        cg_temps.append(kT)"
   ]
  },
  {
   "cell_type": "markdown",
   "id": "8f0088f5-36cd-4d86-ac06-987d19f37672",
   "metadata": {},
   "source": [
    "#### T-Test for temp sweep"
   ]
  },
  {
   "cell_type": "code",
   "execution_count": null,
   "id": "b7772245-2590-4015-a7c0-a59205b757b7",
   "metadata": {},
   "outputs": [],
   "source": [
    "ttest_results = dict()\n",
    "\n",
    "for kT in cg_raw_data.keys():\n",
    "    ua_sample = ua_raw_data[kT]\n",
    "    cg_sample = cg_raw_data[kT]\n",
    "    random_start_index = random.randint(0, len(cg_sample) - len(ua_sample) + 1)\n",
    "    random_end_index = random_start_index + len(ua_sample)\n",
    "    t_stat, p_value = stats.ttest_ind(ua_sample, cg_sample[random_start_index:random_end_index])\n",
    "    d = cohen_d(ua_sample, cg_sample)\n",
    "    ttest_results[kT] = dict(t_stat=t_stat, p_value=p_value, d=d)\n",
    "    \n",
    "for kT in ttest_results.keys():\n",
    "    print(kT, ttest_results[kT])"
   ]
  },
  {
   "cell_type": "markdown",
   "id": "017d128b-2566-490c-80a4-22347f3f9c34",
   "metadata": {},
   "source": [
    "#### Plot"
   ]
  },
  {
   "cell_type": "code",
   "execution_count": null,
   "id": "e61a71c9-f0f8-4343-ac59-a8096b8ea563",
   "metadata": {},
   "outputs": [],
   "source": [
    "fig, ax = plt.subplots()\n",
    "ax.errorbar(x=ua_temps, y=ua_rg_means, yerr=ua_rg_stds, color=\"#0F0E0F\", label=\"U.A. Target\", linestyle=\"\", marker=\"o\")\n",
    "ax.errorbar(x=cg_temps, y=cg_rg_means, yerr=cg_rg_stds, color=\"#d03f3f\", label=\"C.G. Model\", linestyle=\"\", marker=\"o\")\n",
    "\n",
    "plt.ylabel(\"$R_g^2\\,[\\sigma^2]$\")\n",
    "plt.xlabel(r\"T $\\left[\\frac{kT}{\\epsilon}\\right]$\")\n",
    "plt.legend()\n",
    "plt.ylim(7, 15)\n",
    "plt.tight_layout()\n",
    "plt.savefig(f\"figures/rg_comparison_{ti_ratio}ti_ratio.png\")"
   ]
  },
  {
   "cell_type": "markdown",
   "id": "5dfefe77-5bdd-41e5-87bc-d68d1464af21",
   "metadata": {},
   "source": [
    "# End-to-End Distance"
   ]
  },
  {
   "cell_type": "markdown",
   "id": "1ae0a3f9-a153-416d-9aeb-42caf7daac46",
   "metadata": {},
   "source": [
    "### T/I Ratio sweep at constant kT"
   ]
  },
  {
   "cell_type": "code",
   "execution_count": null,
   "id": "b6f10c76-0eb2-487d-8b5b-2a515c242ec0",
   "metadata": {},
   "outputs": [],
   "source": [
    "kT = 5.0\n",
    "ti_ratio_range = [0.60, 0.70, 0.80, 1.0]"
   ]
  },
  {
   "cell_type": "markdown",
   "id": "1310691a-1684-49cd-a9e6-10ec7b0051ee",
   "metadata": {},
   "source": [
    "#### UA Model"
   ]
  },
  {
   "cell_type": "code",
   "execution_count": null,
   "id": "9fe0b949-f53c-4a7d-bfb6-e1da37652722",
   "metadata": {},
   "outputs": [],
   "source": [
    "ua_ti_ratios = []\n",
    "ua_re_means = []\n",
    "ua_re_stds = []\n",
    "ua_raw_data = dict()\n",
    "\n",
    "for ti_ratio in ti_ratio_range:\n",
    "    for job in project.find_jobs(\n",
    "        {\"polymer_lengths\": [20],\n",
    "         \"kT_quench\": kT,\n",
    "         \"para_weight\": ti_ratio,\n",
    "         \"system_seed\": 24\n",
    "    }):\n",
    "        re_means, re_stds, re_values, re_vecs = end_to_end_distance(\n",
    "            gsd_file=job.fn(\"sim_traj.gsd\"),\n",
    "            head_index=0,\n",
    "            tail_index=459,\n",
    "            start=10,\n",
    "            stop=-1\n",
    "        )\n",
    "        uncorr_sample, uncorr_indices, start, neff = equil_sample(np.array(re_means))\n",
    "        ua_raw_data[ti_ratio] = uncorr_sample**2\n",
    "        job.doc.re_mean = np.mean(uncorr_sample**2)\n",
    "        job.doc.re_std = np.std(uncorr_sample**2)\n",
    "        job.doc.re_sem = scipy.stats.sem(uncorr_sample**2)\n",
    "        ua_re_means.append(job.doc.re_mean)\n",
    "        ua_re_stds.append(job.doc.re_std)\n",
    "        ua_ti_ratios.append(ti_ratio)"
   ]
  },
  {
   "cell_type": "markdown",
   "id": "f2268f73-d726-46ce-bd32-66641c644ef1",
   "metadata": {},
   "source": [
    "#### CG Model"
   ]
  },
  {
   "cell_type": "code",
   "execution_count": null,
   "id": "2828116c-da3a-4218-a4d3-fb05f50cb3a7",
   "metadata": {},
   "outputs": [],
   "source": [
    "cg_ti_ratios = []\n",
    "cg_re_means = []\n",
    "cg_re_stds = []\n",
    "cg_raw_data = dict()\n",
    "\n",
    "for ti_ratio in ti_ratio_range:\n",
    "    for job in cg_project.find_jobs(\n",
    "        {\"polymer_lengths\": [20],\n",
    "         \"kT_quench\": kT,\n",
    "         \"ekk_weight\": ti_ratio,\n",
    "         \"cg_potentials_dir\": \"msibi-deep\"\n",
    "    }):\n",
    "        re_means, re_stds, re_values, re_vecs = end_to_end_distance(\n",
    "            gsd_file=job.fn(\"sim_traj.gsd\"),\n",
    "            head_index=0,\n",
    "            tail_index=-1,\n",
    "            start=10,\n",
    "            stop=-1\n",
    "        )\n",
    "        uncorr_sample, uncorr_indices, start, neff = equil_sample(np.array(re_means))\n",
    "        cg_raw_data[ti_ratio] = uncorr_sample**2\n",
    "        job.doc.re_mean = np.mean(uncorr_sample**2)\n",
    "        job.doc.re_std = np.std(uncorr_sample**2)\n",
    "        job.doc.re_sem = scipy.stats.sem(uncorr_sample**2)\n",
    "        cg_re_means.append(job.doc.re_mean)\n",
    "        cg_re_stds.append(job.doc.re_std)\n",
    "        cg_ti_ratios.append(ti_ratio)"
   ]
  },
  {
   "cell_type": "markdown",
   "id": "08ef3d11-d927-40b7-8652-2d673dff80b3",
   "metadata": {},
   "source": [
    "#### T Test for T/I ratio sweep"
   ]
  },
  {
   "cell_type": "code",
   "execution_count": null,
   "id": "3d37d0fc-9dcb-4567-8be7-f69ad2811181",
   "metadata": {},
   "outputs": [],
   "source": [
    "ttest_results = dict()\n",
    "\n",
    "for ti_ratio in cg_raw_data.keys():\n",
    "    ua_sample = ua_raw_data[ti_ratio]\n",
    "    cg_sample = cg_raw_data[ti_ratio]\n",
    "    random_start_index = random.randint(0, len(cg_sample) - len(ua_sample) + 1)\n",
    "    random_end_index = random_start_index + len(ua_sample)\n",
    "    t_stat, p_value = stats.ttest_ind(ua_sample, cg_sample[random_start_index:random_end_index])\n",
    "    d = cohen_d(ua_sample, cg_sample)\n",
    "    ttest_results[ti_ratio] = dict(t_stat=t_stat, p_value=p_value, d=d)\n",
    "    \n",
    "for ti_ratio in ttest_results.keys():\n",
    "    print(ti_ratio, ttest_results[ti_ratio])"
   ]
  },
  {
   "cell_type": "markdown",
   "id": "25ecb4ff-76e1-4bd2-9ba6-2ac5749a1ccd",
   "metadata": {},
   "source": [
    "#### Plot"
   ]
  },
  {
   "cell_type": "code",
   "execution_count": null,
   "id": "42cb6c4b-5cac-4b67-ae48-75f1326d632d",
   "metadata": {},
   "outputs": [],
   "source": [
    "fig, ax = plt.subplots()\n",
    "ax.errorbar(x=ua_ti_ratios, y=ua_re_means, yerr=ua_re_stds, color=\"#0F0E0F\", label=\"U.A. Target\", linestyle=\"\", marker=\"o\")\n",
    "ax.errorbar(x=cg_ti_ratios, y=cg_re_means, yerr=cg_re_stds, color=\"#d03f3f\", label=\"C.G. Model\", linestyle=\"\", marker=\"o\")\n",
    "\n",
    "ax.set_xticks([0.60, 0.70, 0.80, 1.0])\n",
    "ax.set_xticklabels([\"60/40\", \"70/30\", \"80/20\", \"100/0\"], )\n",
    "ax.tick_params(axis=\"x\", labelsize=8)\n",
    "plt.ylabel(\"$R_e^2\\,[\\sigma^2]$\")\n",
    "plt.xlabel(\"T/I Ratio\")\n",
    "plt.legend()\n",
    "plt.ylim(5, 90)\n",
    "plt.tight_layout()\n",
    "plt.savefig(f\"figures/re_comparison_{kT}kT.png\")"
   ]
  },
  {
   "cell_type": "markdown",
   "id": "ca94d126-9b07-4832-ba38-f1a517a26540",
   "metadata": {},
   "source": [
    "### kT sweep at constant T/I ratio"
   ]
  },
  {
   "cell_type": "code",
   "execution_count": null,
   "id": "40ae1a83-df92-4b5b-a367-3f9cfe01eb40",
   "metadata": {},
   "outputs": [],
   "source": [
    "ti_ratio = 0.80\n",
    "kT_range = [4.0, 4.5, 5.0, 5.5, 6.0]"
   ]
  },
  {
   "cell_type": "markdown",
   "id": "1413c38c-3e57-436e-9427-a7a1337ac297",
   "metadata": {},
   "source": [
    "#### UA Model"
   ]
  },
  {
   "cell_type": "code",
   "execution_count": null,
   "id": "701aeb5a-7e08-4602-beba-2fbe32212c1b",
   "metadata": {},
   "outputs": [],
   "source": [
    "ua_temps = []\n",
    "ua_re_means = []\n",
    "ua_re_stds = []\n",
    "\n",
    "for kT in kT_range:\n",
    "    for job in project.find_jobs(\n",
    "        {\"polymer_lengths\": [20],\n",
    "         \"kT_quench\": kT,\n",
    "         \"para_weight\": ti_ratio,\n",
    "         \"system_seed\": 24\n",
    "    }):\n",
    "        re_means, re_stds, re_values, re_vecs = end_to_end_distance(\n",
    "            gsd_file=job.fn(\"sim_traj.gsd\"),\n",
    "            head_index=0,\n",
    "            tail_index=459,\n",
    "            start=10,\n",
    "            stop=-1\n",
    "        )\n",
    "        uncorr_sample, uncorr_indices, start, neff = equil_sample(np.array(re_means))\n",
    "        job.doc.re_mean = np.mean(uncorr_sample**2)\n",
    "        job.doc.re_std = np.std(uncorr_sample**2)\n",
    "        job.doc.re_sem = scipy.stats.sem(uncorr_sample**2)\n",
    "        ua_re_means.append(job.doc.re_mean)\n",
    "        ua_re_stds.append(job.doc.re_std)\n",
    "        ua_temps.append(kT)"
   ]
  },
  {
   "cell_type": "markdown",
   "id": "d7411226-b732-4064-8bd6-1e99a5ac6d44",
   "metadata": {},
   "source": [
    "#### CG Model"
   ]
  },
  {
   "cell_type": "code",
   "execution_count": null,
   "id": "69fbf4ac-acaf-456c-b27b-64136650b4a6",
   "metadata": {},
   "outputs": [],
   "source": [
    "cg_temps = []\n",
    "cg_re_means = []\n",
    "cg_re_stds = []\n",
    "\n",
    "for kT in kT_range:\n",
    "    for job in cg_project.find_jobs(\n",
    "        {\"polymer_lengths\": [20],\n",
    "         \"kT_quench\": kT,\n",
    "         \"ekk_weight\": ti_ratio,\n",
    "         \"cg_potentials_dir\": \"msibi-deep\"\n",
    "    }):\n",
    "        re_means, re_stds, re_values, re_vecs = end_to_end_distance(\n",
    "            gsd_file=job.fn(\"sim_traj.gsd\"),\n",
    "            head_index=0,\n",
    "            tail_index=-1,\n",
    "            start=10,\n",
    "            stop=-1\n",
    "        )\n",
    "        uncorr_sample, uncorr_indices, start, neff = equil_sample(np.array(re_means))\n",
    "        job.doc.re_mean = np.mean(uncorr_sample**2)\n",
    "        job.doc.re_std = np.std(uncorr_sample**2)\n",
    "        job.doc.re_sem = scipy.stats.sem(uncorr_sample**2)\n",
    "        cg_re_means.append(job.doc.re_mean)\n",
    "        cg_re_stds.append(job.doc.re_std)\n",
    "        cg_temps.append(kT)"
   ]
  },
  {
   "cell_type": "markdown",
   "id": "a1d3bd07-c761-429e-a090-fee09347c375",
   "metadata": {},
   "source": [
    "#### Plot"
   ]
  },
  {
   "cell_type": "code",
   "execution_count": null,
   "id": "35e3b09b-3571-4196-bb79-a42f10455452",
   "metadata": {},
   "outputs": [],
   "source": [
    "fig, ax = plt.subplots()\n",
    "ax.errorbar(x=ua_temps, y=ua_re_means, yerr=ua_re_stds, color=\"#0F0E0F\", label=\"U.A. Target\", linestyle=\"\", marker=\"o\")\n",
    "ax.errorbar(x=cg_temps, y=cg_re_means, yerr=cg_re_stds, color=\"#d03f3f\", label=\"C.G. Model\", linestyle=\"\", marker=\"o\")\n",
    "\n",
    "plt.ylabel(\"$R_e^2\\,[\\sigma^2]$\")\n",
    "plt.xlabel(r\"T $\\left[\\frac{kT}{\\epsilon}\\right]$\")\n",
    "plt.legend()\n",
    "plt.ylim(-5, 115)\n",
    "plt.tight_layout()\n",
    "plt.savefig(f\"figures/re_comparison_{ti_ratio}ti_ratio.png\")"
   ]
  },
  {
   "cell_type": "markdown",
   "id": "69122b4c-a9c9-4545-beac-5fcddca62bb2",
   "metadata": {},
   "source": [
    "# Persistance Length"
   ]
  },
  {
   "cell_type": "markdown",
   "id": "0a038d64-f328-41af-b05d-485a246ed8da",
   "metadata": {},
   "source": [
    "### T/I Ratio sweep at constant kT"
   ]
  },
  {
   "cell_type": "code",
   "execution_count": null,
   "id": "ff7cfd18-2aa0-4e5b-b9e0-d0bc9f579c18",
   "metadata": {},
   "outputs": [],
   "source": [
    "kT = 5.0\n",
    "ti_ratio_range = [0.60, 0.70, 0.80, 1.0]"
   ]
  },
  {
   "cell_type": "markdown",
   "id": "1f7c68d4-ed41-44b3-aefd-a3a9402389da",
   "metadata": {},
   "source": [
    "#### UA Model"
   ]
  },
  {
   "cell_type": "code",
   "execution_count": null,
   "id": "d4486b2e-140b-4f08-96a9-c17b3b90f6e7",
   "metadata": {},
   "outputs": [],
   "source": [
    "ua_ti_ratios = []\n",
    "ua_lp_means = []\n",
    "ua_lp_stds = []\n",
    "ua_raw_data = dict()\n",
    "\n",
    "for ti_ratio in ti_ratio_range:\n",
    "    for job in project.find_jobs(\n",
    "        {\"polymer_lengths\": [20],\n",
    "         \"kT_quench\": kT,\n",
    "         \"para_weight\": ti_ratio,\n",
    "         \"system_seed\": 24\n",
    "    }):\n",
    "        lp_avg, lp_std = persistence_length(\n",
    "            gsd_file=job.fn(\"components.gsd\"), start=-800, stop=-1, window_size=40, select_atoms_arg=\"name E K\"\n",
    "        )\n",
    "        job.doc.lp_avg = lp_avg\n",
    "        job.doc.lp_std = lp_std\n",
    "        ua_ti_ratios.append(ti_ratio)\n",
    "        ua_lp_means.append(lp_avg)\n",
    "        ua_lp_stds.append(lp_std)"
   ]
  },
  {
   "cell_type": "markdown",
   "id": "f0e25edb-c41a-428e-8b8d-bb9e2349c9c5",
   "metadata": {},
   "source": [
    "#### CG Model"
   ]
  },
  {
   "cell_type": "code",
   "execution_count": null,
   "id": "175e790c-fd17-42ce-8eca-cf099900bcd0",
   "metadata": {},
   "outputs": [],
   "source": [
    "cg_ti_ratios = []\n",
    "cg_lp_means = []\n",
    "cg_lp_stds = []\n",
    "cg_raw_data = dict()\n",
    "\n",
    "for ti_ratio in ti_ratio_range:\n",
    "    for job in cg_project.find_jobs(\n",
    "        {\"polymer_lengths\": [20],\n",
    "         \"kT_quench\": kT,\n",
    "         \"ekk_weight\": ti_ratio,\n",
    "         \"cg_potentials_dir\": \"msibi-deep\"\n",
    "    }):\n",
    "        lp_avg, lp_std = persistence_length(\n",
    "            gsd_file=job.fn(\"sim_traj.gsd\"), start=-800, stop=-1, window_size=40, select_atoms_arg=\"name E K\"\n",
    "        )\n",
    "        job.doc.lp_avg = lp_avg\n",
    "        job.doc.lp_std = lp_std\n",
    "        cg_ti_ratios.append(ti_ratio)\n",
    "        cg_lp_means.append(lp_avg)\n",
    "        cg_lp_stds.append(lp_std)"
   ]
  },
  {
   "cell_type": "code",
   "execution_count": null,
   "id": "ee7f3b4f-4ade-43af-9137-610c29a597c8",
   "metadata": {},
   "outputs": [],
   "source": [
    "ttest_results = dict()\n",
    "\n",
    "for ti_ratio in cg_raw_data.keys():\n",
    "    ua_sample = ua_raw_data[ti_ratio]\n",
    "    cg_sample = cg_raw_data[ti_ratio]\n",
    "    random_start_index = random.randint(0, len(cg_sample) - len(ua_sample) + 1)\n",
    "    random_end_index = random_start_index + len(ua_sample)\n",
    "    t_stat, p_value = stats.ttest_ind(ua_sample, cg_sample[random_start_index:random_end_index])\n",
    "    d = cohen_d(ua_sample, cg_sample)\n",
    "    ttest_results[ti_ratio] = dict(t_stat=t_stat, p_value=p_value, d=d)\n",
    "    \n",
    "for ti_ratio in ttest_results.keys():\n",
    "    print(ti_ratio, ttest_results[ti_ratio])"
   ]
  },
  {
   "cell_type": "markdown",
   "id": "66361b78-d356-4db7-a8bf-21388c187672",
   "metadata": {},
   "source": [
    "#### Plot"
   ]
  },
  {
   "cell_type": "code",
   "execution_count": null,
   "id": "1b1b2426-4bbd-4005-9287-5d53da11b81a",
   "metadata": {},
   "outputs": [],
   "source": [
    "fig, ax = plt.subplots()\n",
    "ax.errorbar(x=ua_ti_ratios, y=ua_lp_means, yerr=ua_lp_stds, color=\"#0F0E0F\", label=\"U.A. Target\", linestyle=\"\", marker=\"o\")\n",
    "ax.errorbar(x=cg_ti_ratios, y=cg_lp_means, yerr=cg_lp_stds, color=\"#d03f3f\", label=\"C.G. Model\", linestyle=\"\", marker=\"o\")\n",
    "\n",
    "ax.set_xticks([0.60, 0.70, 0.80, 1.0])\n",
    "ax.set_xticklabels([\"60/40\", \"70/30\", \"80/20\", \"100/0\"], )\n",
    "ax.tick_params(axis=\"x\", labelsize=8)\n",
    "plt.ylabel(\"$\\ell_p\\,[\\sigma]$\")\n",
    "plt.xlabel(\"T/I Ratio\")\n",
    "plt.legend()\n",
    "plt.ylim(1.50, 1.95)\n",
    "plt.tight_layout()\n",
    "plt.savefig(f\"figures/lp_comparison_{kT}kT.png\")"
   ]
  },
  {
   "cell_type": "markdown",
   "id": "0adb2d03-48bc-4d0e-a4ed-a1267bb96a90",
   "metadata": {},
   "source": [
    "### kT sweep at constant T/I ratio"
   ]
  },
  {
   "cell_type": "code",
   "execution_count": null,
   "id": "7e457ca1-3831-4641-93f9-8c2ce9590945",
   "metadata": {},
   "outputs": [],
   "source": [
    "ti_ratio = 0.80\n",
    "kT_range = [4.0, 4.5, 5.0, 5.5, 6.0]"
   ]
  },
  {
   "cell_type": "markdown",
   "id": "744188de-cdee-4378-8633-fda7f62f8393",
   "metadata": {},
   "source": [
    "#### UA Model"
   ]
  },
  {
   "cell_type": "code",
   "execution_count": null,
   "id": "9331db35-a62b-4755-beb3-7be057d94f18",
   "metadata": {},
   "outputs": [],
   "source": [
    "ua_temps = []\n",
    "ua_lp_means = []\n",
    "ua_lp_stds = []\n",
    "\n",
    "for kT in kT_range:\n",
    "    for job in project.find_jobs(\n",
    "        {\"polymer_lengths\": [20],\n",
    "         \"kT_quench\": kT,\n",
    "         \"para_weight\": ti_ratio,\n",
    "         \"system_seed\": 24\n",
    "    }):\n",
    "        lp_avg, lp_std = persistence_length(\n",
    "            gsd_file=job.fn(\"components.gsd\"), start=-800, stop=-1, window_size=40, select_atoms_arg=\"name E K\"\n",
    "        )\n",
    "        job.doc.lp_avg = lp_avg\n",
    "        job.doc.lp_std = lp_std\n",
    "        ua_temps.append(kT)\n",
    "        ua_lp_means.append(lp_avg)\n",
    "        ua_lp_stds.append(lp_std)"
   ]
  },
  {
   "cell_type": "markdown",
   "id": "cd0ed97a-db15-42fc-b60a-5da41c40f529",
   "metadata": {},
   "source": [
    "#### CG Model"
   ]
  },
  {
   "cell_type": "code",
   "execution_count": null,
   "id": "634d13b0-66a2-4240-900f-d475169d1545",
   "metadata": {},
   "outputs": [],
   "source": [
    "cg_temps = []\n",
    "cg_lp_means = []\n",
    "cg_lp_stds = []\n",
    "\n",
    "for kT in kT_range:\n",
    "    for job in cg_project.find_jobs(\n",
    "        {\"polymer_lengths\": [20],\n",
    "         \"kT_quench\": kT,\n",
    "         \"ekk_weight\": ti_ratio,\n",
    "         \"cg_potentials_dir\": \"msibi-deep\"\n",
    "    }):\n",
    "        lp_avg, lp_std = persistence_length(\n",
    "            gsd_file=job.fn(\"sim_traj.gsd\"), start=-800, stop=-1, window_size=40, select_atoms_arg=\"name E K\"\n",
    "        )\n",
    "        job.doc.lp_avg = lp_avg\n",
    "        job.doc.lp_std = lp_std\n",
    "        cg_temps.append(kT)\n",
    "        cg_lp_means.append(lp_avg)\n",
    "        cg_lp_stds.append(lp_std)"
   ]
  },
  {
   "cell_type": "markdown",
   "id": "7302ede3-c254-417f-ab96-00e26702fb08",
   "metadata": {},
   "source": [
    "#### Plot"
   ]
  },
  {
   "cell_type": "code",
   "execution_count": null,
   "id": "26d280c7-de4a-4396-a99d-ceadba54c802",
   "metadata": {},
   "outputs": [],
   "source": [
    "fig, ax = plt.subplots()\n",
    "ax.errorbar(x=ua_temps, y=ua_lp_means, yerr=ua_lp_stds, color=\"#0F0E0F\", label=\"U.A. Target\", linestyle=\"\", marker=\"o\")\n",
    "ax.errorbar(x=cg_temps, y=cg_lp_means, yerr=cg_lp_stds, color=\"#d03f3f\", label=\"C.G. Model\", linestyle=\"\", marker=\"o\")\n",
    "\n",
    "plt.ylabel(\"$\\ell_p\\,[\\sigma]$\")\n",
    "plt.xlabel(r\"T $\\left[\\frac{kT}{\\epsilon}\\right]$\")\n",
    "plt.legend()\n",
    "plt.tight_layout()\n",
    "plt.ylim(1.50, 1.95)\n",
    "plt.savefig(f\"figures/lp_comparison_{ti_ratio}ti_ratio.png\")"
   ]
  }
 ],
 "metadata": {
  "kernelspec": {
   "display_name": "Python 3 (ipykernel)",
   "language": "python",
   "name": "python3"
  },
  "language_info": {
   "codemirror_mode": {
    "name": "ipython",
    "version": 3
   },
   "file_extension": ".py",
   "mimetype": "text/x-python",
   "name": "python",
   "nbconvert_exporter": "python",
   "pygments_lexer": "ipython3",
   "version": "3.11.9"
  }
 },
 "nbformat": 4,
 "nbformat_minor": 5
}
