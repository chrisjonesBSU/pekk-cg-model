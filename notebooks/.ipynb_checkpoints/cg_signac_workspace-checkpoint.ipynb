{
 "cells": [
  {
   "cell_type": "code",
   "execution_count": null,
   "id": "553284df",
   "metadata": {},
   "outputs": [],
   "source": [
    "import signac\n",
    "from polybinderCG.coarse_grain import System\n",
    "import os\n",
    "import gsd.hoomd"
   ]
  },
  {
   "cell_type": "code",
   "execution_count": null,
   "id": "919ebf9c",
   "metadata": {},
   "outputs": [],
   "source": [
    "project = signac.get_project(\"../ua-target-runs/rg-re-pl-sweep/\")"
   ]
  },
  {
   "cell_type": "code",
   "execution_count": null,
   "id": "a4078389",
   "metadata": {},
   "outputs": [],
   "source": [
    "for job in project.find_jobs(\n",
    "    {\"remove_hydrogens\": True}, {\"done\": True}\n",
    "):\n",
    "    if job.isfile(\"components.gsd\"):\n",
    "        continue\n",
    "    try:\n",
    "        sys = System(\n",
    "            compound=\"PEKK\",\n",
    "            gsd_file=job.fn(\"sim_traj.gsd\")\n",
    "        )\n",
    "    except:\n",
    "        print(job.id)\n",
    "        continue\n",
    "    \n",
    "    for mon in sys.monomers():\n",
    "        mon.generate_components(index_mapping=\"ring_plus_linkage_UA\")\n",
    "            \n",
    "    sys.coarse_grain_trajectory(\n",
    "        file_path = os.path.join(job.ws, \"components.gsd\"),\n",
    "        first_frame=0,\n",
    "        last_frame=-1,\n",
    "        use_monomers=False,\n",
    "        use_components=True\n",
    "    )"
   ]
  },
  {
   "cell_type": "markdown",
   "id": "23b10be1",
   "metadata": {},
   "source": [
    "# Create GSDs for MSDs\n",
    "\n",
    "- Rename center chunk of particles, use those in MSD calcs"
   ]
  },
  {
   "cell_type": "code",
   "execution_count": null,
   "id": "e967611c",
   "metadata": {},
   "outputs": [],
   "source": [
    "project = signac.get_project(\"../../coarse-grain-sims/tm_ti_sweep/nvt-runs/\")"
   ]
  },
  {
   "cell_type": "code",
   "execution_count": null,
   "id": "9261f6e6",
   "metadata": {
    "scrolled": true
   },
   "outputs": [],
   "source": [
    "for job in project.find_jobs():\n",
    "    if job.isfile(\"cg_msd_traj.gsd\"):\n",
    "        continue\n",
    "    sys = System(gsd_file=job.fn(\"sim_traj.gsd\"), atoms_per_monomer=1)\n",
    "    for mol in sys.molecules:\n",
    "        mol.sequence = \"EKK\"\n",
    "        mol.assign_types()\n",
    "    sys.rename_center_chunk(chunk_size=15, use_monomers=True)\n",
    "    sys.coarse_grain_trajectory(\n",
    "        file_path = os.path.join(job.ws, \"cg_msd_traj.gsd\"),\n",
    "        first_frame=0,\n",
    "        last_frame=-1,\n",
    "        use_monomers=True\n",
    "    )"
   ]
  },
  {
   "cell_type": "markdown",
   "id": "c1f56a43",
   "metadata": {},
   "source": [
    "# Copy the CG'd gsd files to descriptive file names in the workspace dir:"
   ]
  },
  {
   "cell_type": "code",
   "execution_count": null,
   "id": "9e1ff2a7",
   "metadata": {},
   "outputs": [],
   "source": [
    "import shutil\n",
    "\n",
    "for job in project.find_jobs(filter={\"remove_hydrogens\": True}):\n",
    "    fname = f\"{job.sp.para_weight}pm.gsd\"\n",
    "    shutil.copyfile(\n",
    "        job.fn(\"components.gsd\"), os.path.join(project.workspace(),\"..\",fname)\n",
    "    )"
   ]
  }
 ],
 "metadata": {
  "kernelspec": {
   "display_name": "Python 3 (ipykernel)",
   "language": "python",
   "name": "python3"
  },
  "language_info": {
   "codemirror_mode": {
    "name": "ipython",
    "version": 3
   },
   "file_extension": ".py",
   "mimetype": "text/x-python",
   "name": "python",
   "nbconvert_exporter": "python",
   "pygments_lexer": "ipython3",
   "version": "3.11.9"
  }
 },
 "nbformat": 4,
 "nbformat_minor": 5
}
