{
 "cells": [
  {
   "cell_type": "code",
   "execution_count": null,
   "id": "1fb6c6c9",
   "metadata": {},
   "outputs": [],
   "source": [
    "import os\n",
    "\n",
    "from cmeutils.structure import gsd_rdf, bond_distribution, nematic_order_parameter\n",
    "from cmeutils.polymers import end_to_end_distance, radius_of_gyration\n",
    "from cmeutils.dynamics import msd_from_gsd\n",
    "from cmeutils.sampling import autocorr1D\n",
    "from cmeutils.plotting import get_histogram\n",
    "from cmeutils.plotting import savitzky_golay\n",
    "from cmeutils.gsd_utils import get_molecule_cluster\n",
    "\n",
    "import freud\n",
    "import matplotlib.pyplot as plt\n",
    "import numpy as np\n",
    "import signac\n",
    "\n",
    "import gsd.hoomd\n",
    "\n",
    "color_dict = {1.0: \"#0F0E0F\", 0.8: \"#666666\", 0.7: \"#964d4d\", 0.6: \"#d03f3f\"}\n",
    "color_dict = {1.0: \"#0F0E0F\", 0.8: \"#666666\", 0.7: \"#964d4d\", 0.6: \"#d03f3f\"}\n",
    "symbol_dict = {1.0: \"o\", 0.8: \"x\", 0.7: \"^\", 0.6: \"*\"}\n",
    "\n",
    "plt.rcParams[\"figure.figsize\"] = (3, 3)\n",
    "plt.rcParams[\"axes.labelsize\"] = 12\n",
    "plt.rcParams[\"legend.fontsize\"] = 4\n",
    "plt.rcParams['lines.markersize'] = 2\n",
    "plt.rcParams[\"lines.linestyle\"] = \"-\"\n",
    "plt.rcParams[\"lines.linewidth\"] = 1\n",
    "plt.rcParams[\"figure.dpi\"] = 1200"
   ]
  },
  {
   "cell_type": "code",
   "execution_count": null,
   "id": "96e4c097",
   "metadata": {},
   "outputs": [],
   "source": [
    "project = signac.get_project(\"../coarse-grain-sims/lattice-annealing/nvt/bulk-relaxation-long/polybinder-flow/\")"
   ]
  },
  {
   "cell_type": "code",
   "execution_count": null,
   "id": "f9c225a6",
   "metadata": {},
   "outputs": [],
   "source": [
    "def frames_to_ns(real_timestep, frame_counts, frame_write_freq):\n",
    "    ns_timestep = real_timestep * 1e-6\n",
    "    return np.array(frame_counts) * frame_write_freq * ns_timestep"
   ]
  },
  {
   "cell_type": "markdown",
   "id": "a0d6dd49",
   "metadata": {},
   "source": [
    "# Nematic Order Parameter:"
   ]
  },
  {
   "cell_type": "code",
   "execution_count": null,
   "id": "d7e3baed",
   "metadata": {},
   "outputs": [],
   "source": [
    "fig = plt.figure()\n",
    "\n",
    "for ti_ratio, jobs in project.find_jobs(\n",
    "    {\"doc.done\": True, \"kT_quench\": 2.0, \"cg_potentials_dir\": \"msibi-deep\", \"n_steps\": 5e9\n",
    "    }).groupby(\"ekk_weight\"):\n",
    "    \n",
    "    for job in jobs:\n",
    "        if ti_ratio == 0.60:\n",
    "            label=\"60/40\"\n",
    "        elif ti_ratio == 0.70:\n",
    "            label=\"70/30\"\n",
    "        elif ti_ratio == 0.80:\n",
    "            label=\"80/20\"\n",
    "        elif ti_ratio == 1.0:\n",
    "            label=\"100/0\"\n",
    "        nem_order = np.loadtxt(job.fn(\"nem_order.txt\"))\n",
    "        ns = frames_to_ns(job.doc.real_timestep, range(0, len(nem_order)), job.sp.gsd_write)\n",
    "        plt.plot(ns / 1000, nem_order, label=label, c=color_dict[ti_ratio])\n",
    "        #print(job.ws)\n",
    "        \n",
    "plt.legend(title=\"T/I Ratio\", fontsize=9)\n",
    "plt.xlabel(\"Time $[\\mu s]$\")\n",
    "plt.ylabel(\"S2\")\n",
    "plt.tight_layout()\n",
    "plt.savefig(\"figures/s2-order-parm-decay-2.0kT.png\")\n",
    "plt.show()"
   ]
  },
  {
   "cell_type": "markdown",
   "id": "79115cf8-43be-4c94-aeef-8f241f3d7188",
   "metadata": {},
   "source": [
    "# Plot Experimental Results:"
   ]
  },
  {
   "cell_type": "code",
   "execution_count": null,
   "id": "1eed7d70-e454-493c-acda-7376e18b9714",
   "metadata": {},
   "outputs": [],
   "source": [
    "fpath = \"../experimental-stress-data/csv\"\n",
    "for ti_ratio in [\"6040\", \"7030\", \"8020\"]:\n",
    "    data = np.loadtxt(os.path.join(fpath, f\"usm-stress-strain-data-{ti_ratio}.csv\"), delimiter=\",\")\n",
    "    if ti_ratio == str(6040):\n",
    "        label=\"60/40\"\n",
    "        _ti_ratio = 0.60\n",
    "    elif ti_ratio == str(7030):\n",
    "        label=\"70/30\"\n",
    "        _ti_ratio = 0.70\n",
    "    elif ti_ratio == str(8020):\n",
    "        label=\"80/20\"\n",
    "        _ti_ratio = 0.80\n",
    "\n",
    "    plt.plot(data[:,0], data[:,1] / 100, label=label, c=color_dict[_ti_ratio], marker=\"o\", markersize=1)\n",
    "\n",
    "plt.xlabel(\"Time [ms]\")\n",
    "plt.ylabel(\"Normalized Stress\")\n",
    "plt.legend(title=\"T/I Ratio\", fontsize=9)\n",
    "plt.xlim(0, 50)\n",
    "plt.tight_layout()\n",
    "#plt.savefig(\"figures/exp-stress-decay.png\")\n",
    "plt.show()"
   ]
  },
  {
   "cell_type": "code",
   "execution_count": null,
   "id": "9c564029-4993-44c8-a0d2-e4e7cca8208c",
   "metadata": {},
   "outputs": [],
   "source": [
    "fpath = \"../experimental-stress-data/csv\"\n",
    "for ti_ratio in [\"6040\", \"7030\", \"8020\"]:\n",
    "    data = np.loadtxt(os.path.join(fpath, f\"usm-stress-strain-data-{ti_ratio}.csv\"), delimiter=\",\")\n",
    "    if ti_ratio == str(6040):\n",
    "        label=\"60/40\"\n",
    "        _ti_ratio = 0.60\n",
    "    elif ti_ratio == str(7030):\n",
    "        label=\"70/30\"\n",
    "        _ti_ratio = 0.70\n",
    "    elif ti_ratio == str(8020):\n",
    "        label=\"80/20\"\n",
    "        _ti_ratio = 0.80\n",
    "\n",
    "    plt.plot(data[:,0], data[:,1], label=label, c=color_dict[_ti_ratio], marker=\"o\", markersize=1)\n",
    "\n",
    "plt.xlabel(\"Time [ms]\")\n",
    "plt.ylabel(\"Normalized Stress [MPa]\")\n",
    "#plt.legend(title=\"T/I Ratio\", fontsize=9)\n",
    "plt.ylim(10, 100)\n",
    "plt.xlim(0, 20)\n",
    "plt.tight_layout()\n",
    "plt.savefig(\"figures/exp-stress-decay-short-time.png\")\n",
    "plt.show()"
   ]
  },
  {
   "cell_type": "markdown",
   "id": "ca9d4727",
   "metadata": {},
   "source": [
    "# End-to-End Distances"
   ]
  },
  {
   "cell_type": "code",
   "execution_count": null,
   "id": "1f6fc217",
   "metadata": {},
   "outputs": [],
   "source": [
    "fig = plt.figure()\n",
    "\n",
    "for ti_ratio, jobs in project.find_jobs(\n",
    "    {\"doc.done\": True, \"kT_quench\": kT, \"cg_potentials_dir\": \"msibi-deep\", \"n_steps\": 5e9\n",
    "    }).groupby(\"ekk_weight\"):            \n",
    "    for job in jobs:\n",
    "        if ti_ratio == 0.60:\n",
    "            label=\"60/40\"\n",
    "        elif ti_ratio == 0.70:\n",
    "            label=\"70/30\"\n",
    "        elif ti_ratio == 0.80:\n",
    "            label=\"80/20\"\n",
    "        elif ti_ratio == 1.0:\n",
    "            label=\"100/0\"\n",
    "        re_means = np.loadtxt(job.fn(\"re_means.txt\"))\n",
    "        re_stds = np.loadtxt(job.fn(\"re_stds.txt\"))\n",
    "        ns = frames_to_ns(job.doc.real_timestep, range(0, len(re_means)), job.sp.gsd_write)\n",
    "        plt.plot(ns, re_means, label=label, c=color_dict[ti_ratio])\n",
    "        #plt.errorbar(x=ns, y=re_means, yerr=re_stds, marker=\"o\")\n",
    "        \n",
    "plt.legend(title=\"T/I Ratio\", fontsize=9)\n",
    "\n",
    "plt.xlabel(\"Time (ns)\")\n",
    "plt.ylabel(\"$<R_E> (\\sigma)$\")\n",
    "plt.tight_layout()\n",
    "#plt.savefig(f\"end-to-end-decay-{kT}kT.png\")\n",
    "plt.show()"
   ]
  },
  {
   "cell_type": "markdown",
   "id": "782a761e",
   "metadata": {
    "jp-MarkdownHeadingCollapsed": true
   },
   "source": [
    "# Mean Square Displacement:"
   ]
  },
  {
   "cell_type": "code",
   "execution_count": null,
   "id": "20877f78",
   "metadata": {},
   "outputs": [],
   "source": [
    "ua_results = {}\n",
    "chunk_size=200\n",
    "start_frame = 500\n",
    "end_frame = 2000 - chunk_size\n",
    "n_samples = 20\n",
    "\n",
    "for ti_ratio, jobs in project.find_jobs(\n",
    "    {\"doc.done\": True, \"kT_quench\": kT, \"cg_potentials_dir\": \"msibi-deep\", \"n_steps\": 5e9\n",
    "    }).groupby(\"ekk_weight\"):  \n",
    "    job = list(jobs)[0]\n",
    "    with gsd.hoomd.open(job.fn(\"components.gsd\")) as traj:\n",
    "        end_frame = len(traj) - chunk_size\n",
    "        random_starts = np.random.randint(start_frame, end_frame, n_samples)\n",
    "        \n",
    "    window_slopes = []\n",
    "    steps_per_frame = job.doc.steps_per_frame\n",
    "    ts = job.doc.real_timestep * 1e-15\n",
    "    ts_frame = steps_per_frame * ts\n",
    "    \n",
    "    for i in random_starts:\n",
    "        msd = msd_from_gsd(\n",
    "            gsdfile=job.fn(\"components.gsd\"),\n",
    "            start=int(i),\n",
    "            stop=int(i) + chunk_size,\n",
    "            atom_types=\"all\",\n",
    "            msd_mode=\"direct\"\n",
    "        )\n",
    "        \n",
    "        msd_data = np.copy(msd.msd)\n",
    "        msd_data *= 3.39**2 * 1e-20\n",
    "        time = np.arange(0, chunk_size, 1) * ts_frame\n",
    "        mid_chunk = msd_data[len(msd_data)//4:-len(msd_data)//4]\n",
    "        mid_chunk_time = time[len(time)//4:-len(time)//4]\n",
    "        window_slopes.append((mid_chunk[-1] - mid_chunk[0])/(mid_chunk_time[-1] - mid_chunk_time[0]))\n",
    "        \n",
    "    ua_results[job.doc.T_SI - 273] = [np.mean(window_slopes), np.std(window_slopes)]\n",
    "    job.doc.D = np.mean(window_slopes)\n",
    "    job.doc.D_std = np.std(window_slopes)\n",
    "    job.doc.T_celsius = job.doc.T_SI - 273"
   ]
  },
  {
   "cell_type": "code",
   "execution_count": null,
   "id": "55fc84af",
   "metadata": {},
   "outputs": [],
   "source": [
    "fig = plt.figure()\n",
    "\n",
    "for ti_ratio, jobs in project.find_jobs(\n",
    "    {\"doc.done\": True, \"kT_quench\": kT, \"cg_potentials_dir\": \"msibi-deep\", \"n_steps\": 5e9\n",
    "    }).groupby(\"ekk_weight\"):  \n",
    "        for job in jobs:Square\n",
    "            msd = msd_from_gsd(\n",
    "                gsdfile=job.fn(\"sim_traj.gsd\"),\n",
    "                start=0,\n",
    "                stop=-1,\n",
    "                atom_types=\"all\",\n",
    "                msd_mode=\"direct\"\n",
    "            )\n",
    "            ns = frames_to_ns(job.doc.real_timestep, range(0, len(msd.msd)), job.sp.gsd_write)\n",
    "            data = np.vstack([ns, msd.msd])\n",
    "            np.savetxt(fname=job.fn(\"msd.txt\"), X=data.T, delimiter=\",\")\n",
    "            print(job)\n"
   ]
  },
  {
   "cell_type": "code",
   "execution_count": null,
   "id": "09d6685d",
   "metadata": {},
   "outputs": [],
   "source": [
    "def line(power, x, b=0):\n",
    "    return x**(power) + b"
   ]
  },
  {
   "cell_type": "code",
   "execution_count": null,
   "id": "525f2dad",
   "metadata": {},
   "outputs": [],
   "source": [
    "fig = plt.figure()\n",
    "\n",
    "for ti_ratio, jobs in project.find_jobs(\n",
    "    {\"doc.done\": True, \"kT_quench\": 2.0, \"cg_potentials_dir\": \"msibi-deep\"\n",
    "    }).groupby(\"ekk_weight\"):\n",
    "        for job in jobs:\n",
    "            msd = np.loadtxt(job.fn(\"msd.txt\"), delimiter=\",\")\n",
    "            plt.plot(msd[:,0], msd[:,1], label=ti_ratio, c=color_dict[ti_ratio])\n",
    "\n",
    "plt.legend()\n",
    "plt.xlim(500, 2000)\n",
    "plt.show()"
   ]
  },
  {
   "cell_type": "markdown",
   "id": "819419e1-8150-49ac-8ed6-46a3f3a1ec55",
   "metadata": {
    "jp-MarkdownHeadingCollapsed": true
   },
   "source": [
    "# Pressure:"
   ]
  },
  {
   "cell_type": "code",
   "execution_count": null,
   "id": "a05343c5",
   "metadata": {},
   "outputs": [],
   "source": [
    "fig = plt.figure()\n",
    "\n",
    "count = 0\n",
    "for ti_ratio, jobs in project.find_jobs(\n",
    "    {\"doc.done\": True, \"kT_quench\": kT, \"cg_potentials_dir\": \"msibi-deep\", \"n_steps\": 5e9\n",
    "    }).groupby(\"ekk_weight\"): \n",
    "    \n",
    "    for job in jobs:\n",
    "        data = np.genfromtxt(job.fn(\"sim_traj.txt\"), names=True)\n",
    "        pressure = data[\"mdcomputeThermodynamicQuantitiespressure\"][200:]\n",
    "        pe = data[\"mdcomputeThermodynamicQuantitiespotential_energy\"]\n",
    "        pressure = savitzky_golay(pressure, order=1, window_size=11)\n",
    "        pe = savitzky_golay(pe, order=1, window_size=11)\n",
    "        ns = frames_to_ns(job.doc.real_timestep, range(0, len(pressure)), job.sp.log_write)\n",
    "        plt.plot(ns[200:], -pressure[200:], label=ti_ratio, c=color_dict[ti_ratio])\n",
    "\n",
    "        count += 0\n",
    "\n",
    "plt.legend(title=\"T/I Ratio\", fontsize=9, ncol=1)\n",
    "plt.xlabel(\"Time [ns]\")\n",
    "plt.ylabel(\"$P$ [reduced]\")\n",
    "plt.show()"
   ]
  }
 ],
 "metadata": {
  "kernelspec": {
   "display_name": "Python 3 (ipykernel)",
   "language": "python",
   "name": "python3"
  },
  "language_info": {
   "codemirror_mode": {
    "name": "ipython",
    "version": 3
   },
   "file_extension": ".py",
   "mimetype": "text/x-python",
   "name": "python",
   "nbconvert_exporter": "python",
   "pygments_lexer": "ipython3",
   "version": "3.11.9"
  }
 },
 "nbformat": 4,
 "nbformat_minor": 5
}
