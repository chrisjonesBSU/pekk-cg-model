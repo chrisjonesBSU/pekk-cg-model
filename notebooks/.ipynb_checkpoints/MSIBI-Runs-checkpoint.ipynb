{
 "cells": [
  {
   "cell_type": "code",
   "execution_count": 1,
   "id": "2baadd77",
   "metadata": {},
   "outputs": [],
   "source": [
    "from msibi import MSIBI, State, Pair, Bond, Angle\n",
    "from cmeutils.structure import angle_distribution, bond_distribution, gsd_rdf\n",
    "import gsd\n",
    "import gsd.hoomd\n",
    "import time\n",
    "import matplotlib.pyplot as plt\n",
    "import math\n",
    "import numpy as np\n",
    "import signac\n",
    "import os\n",
    "import shutil\n",
    "\n",
    "from math import factorial\n",
    "\n",
    "\n",
    "colors = [\n",
    "    \"#f6ab17\", \"#fb751a\", \"#f8571a\", \"#ee3a1a\",\n",
    "    \"#d6241b\", \"#b41b1f\", \"#8b202b\", \"#642c41\",\n",
    "    \"#483e5f\", \"#37517f\", \"#2280b6\", \"#0cbaf7\",\n",
    "    \n",
    "]\n",
    "\n",
    "colors2 = [\n",
    "    \"#f6ab17\", \"#fb751a\", \"#f8571a\", \"#ee3a1a\",\n",
    "    \"#d6241b\", \"#b41b1f\", \"#8b202b\", \"#642c41\",\n",
    "    \"#483e5f\", \"#37517f\", \"#2280b6\", \"#0cbaf7\",\n",
    "    \"#f9c75e\", \"#fc9c5c\", \"#fa885c\", \"#f3755f\",\n",
    "    \"#d6736d\", \"#e44e52\", \"#d64957\", \"#b65a7c\",\n",
    "    \"#8375a4\", \"#6886bd\", \"#58ade0\", \"#56d1fa\"\n",
    "    \n",
    "]\n",
    "\n",
    "def savitzky_golay(y, window_size, order, deriv=0, rate=1):\n",
    "    \"\"\"Smoothing function used for potentials and distributons\n",
    "    \n",
    "    Parameters\n",
    "    ----------\n",
    "    y:\n",
    "    window_size:\n",
    "    order:\n",
    "    deriv:\n",
    "    rate:\n",
    "\n",
    "    Returns\n",
    "    -------\n",
    "\n",
    "    \"\"\"\n",
    "    if not (isinstance(window_size, int) and isinstance(order, int)):\n",
    "        raise ValueError(\"window_size and order must be of type int\")\n",
    "    if window_size % 2 != 1 or window_size < 1:\n",
    "        raise TypeError(\"window_size must be a positive odd number\")\n",
    "    if window_size < order + 2:\n",
    "        raise TypeError(\"window_size is too small for the polynomials order\")\n",
    "\n",
    "    order_range = range(order + 1)\n",
    "    half_window = (window_size - 1) // 2\n",
    "    b = np.mat(\n",
    "        [\n",
    "            [k ** i for i in order_range]\n",
    "            for k in range(-half_window, half_window + 1)\n",
    "        ]\n",
    "    )\n",
    "    m = np.linalg.pinv(b).A[deriv] * rate ** deriv * factorial(deriv)\n",
    "    firstvals = y[0] - np.abs(y[1 : half_window + 1][::-1] - y[0])\n",
    "    lastvals = y[-1] + np.abs(y[-half_window - 1 : -1][::-1] - y[-1])\n",
    "    y = np.concatenate((firstvals, y, lastvals))\n",
    "    return np.convolve(m[::-1], y, mode=\"valid\")"
   ]
  },
  {
   "cell_type": "markdown",
   "id": "93a56d36",
   "metadata": {},
   "source": [
    "# Find the non Para/Meta sensitive potentials first\n",
    "\n",
    "- The idea is that these distributions don't change (significantly) with changing para/meta ratios.\n",
    "- We still have to pick a ratio to use, I think it makes the most sense to use all Para since any slight\n",
    "    differences from introducing Meta are probably actually due to the EKK angle, which will be optimized \n",
    "    specifically to the P/M ratio of the system."
   ]
  },
  {
   "cell_type": "code",
   "execution_count": 2,
   "id": "8244fe95",
   "metadata": {},
   "outputs": [],
   "source": [
    "%%bash\n",
    "\n",
    "for dir in \"states\" \"rdfs\" \"potentials\"\n",
    "do\n",
    "    if [ -d $dir ]\n",
    "    then\n",
    "        rm -r $dir\n",
    "    fi\n",
    "done"
   ]
  },
  {
   "cell_type": "code",
   "execution_count": 4,
   "id": "df879ba4",
   "metadata": {
    "scrolled": false
   },
   "outputs": [],
   "source": [
    "# Call the signac project that contains the single-chain, low density target UA simulation\n",
    "project = signac.get_project(\"../learning-runs/single-two-chains\")\n",
    "project.detect_schema()\n",
    "\n",
    "# Find the signac workspace that contains the PEKK simulation with a para weight of 1.0 (all para)\n",
    "all_para = [job for job in project.find_jobs(\n",
    "    {\"polymer_lengths\": [16],\n",
    "     \"n_compounds\": [1],\n",
    "     \"kT_quench\": 6.5,\n",
    "     \"para_weight\": 1.0}\n",
    ")][0]"
   ]
  },
  {
   "cell_type": "markdown",
   "id": "9af9e739",
   "metadata": {},
   "source": [
    "# Performing IBI on bond stretching potentials"
   ]
  },
  {
   "cell_type": "code",
   "execution_count": null,
   "id": "eaba13a2",
   "metadata": {},
   "outputs": [],
   "source": [
    "## Create MSIBI manager class.  Sets simulation specific parameters\n",
    "n_steps = 1e6\n",
    "opt = MSIBI(\n",
    "    integrator=\"hoomd.md.integrate.nvt\",\n",
    "    integrator_kwargs={\"tau\": 0.1},\n",
    "    dt=0.0003,\n",
    "    gsd_period=int(n_steps/500),\n",
    "    n_steps=n_steps,\n",
    "    max_frames=250\n",
    ")\n",
    "\n",
    "## Create State object, and add it to the opt.states attribute\n",
    "## Only using a single state to optimize bonded potentials\n",
    "opt.add_state(\n",
    "    State(name=\"A\", kT=all_para.sp.kT_quench, traj_file=all_para.fn(\"components.gsd\"), alpha=1.0)\n",
    ")\n",
    "\n",
    "## Create Pair objects, and add them to the opt.pairs attribute\n",
    "## For optimizing the bond-stretching potential, pair potentials are \"turned off\" (LJ potential with epsilon=0)\n",
    "pair0 = Pair(type1=\"E\", type2=\"E\")\n",
    "pair1 = Pair(type1=\"K\", type2=\"K\")\n",
    "pair2 = Pair(type1=\"E\", type2=\"K\")\n",
    "for pair in [pair0, pair1, pair2]:\n",
    "    pair.set_lj(epsilon=0, sigma=1, r_cut=0)\n",
    "    opt.add_pair(pair)\n",
    "\n",
    "    \n",
    "## Create Bond objects, and add tem to the opt.bonds attribute\n",
    "## Using a simple harmonic potential for the initial \"guess\" potential\n",
    "bond0 = Bond(type1=\"E\", type2=\"K\", head_correction_form=\"linear\")\n",
    "bond1 = Bond(type1=\"K\", type2=\"K\", head_correction_form=\"linear\")\n",
    "bond0.set_quadratic(k2=50, l0=1.51, k3=0, k4=0, l_min=0.0, l_max=4.0, n_points=100)\n",
    "bond1.set_quadratic(k2=50, l0=1.55, k3=0, k4=0, l_min=0.0, l_max=4.0, n_points=100)\n",
    "opt.add_bond(bond0)\n",
    "opt.add_bond(bond1)\n",
    "\n",
    "\n",
    "## Run the optimization\n",
    "opt.optimize_bonds(n_iterations=12)"
   ]
  },
  {
   "cell_type": "markdown",
   "id": "6bcba20d",
   "metadata": {},
   "source": [
    "# Performing IBI on bond angle potentials:"
   ]
  },
  {
   "cell_type": "code",
   "execution_count": null,
   "id": "bde36286",
   "metadata": {},
   "outputs": [],
   "source": []
  },
  {
   "cell_type": "code",
   "execution_count": null,
   "id": "96692873",
   "metadata": {},
   "outputs": [],
   "source": []
  },
  {
   "cell_type": "code",
   "execution_count": null,
   "id": "829fd43a",
   "metadata": {},
   "outputs": [],
   "source": []
  },
  {
   "cell_type": "code",
   "execution_count": null,
   "id": "a4150cec",
   "metadata": {},
   "outputs": [],
   "source": []
  },
  {
   "cell_type": "code",
   "execution_count": null,
   "id": "e9816d48",
   "metadata": {},
   "outputs": [],
   "source": []
  },
  {
   "cell_type": "markdown",
   "id": "43ec4c72",
   "metadata": {},
   "source": [
    "$P(l) \\propto \\exp\\left[-\\dfrac{U(l)}{k_BT}\\right]$\n",
    "\n",
    "$P(\\alpha) \\propto \\exp\\left[-\\dfrac{U(\\alpha)}{k_BT}\\right]$\n",
    "\n",
    "$P(\\theta) \\propto \\exp\\left[-\\dfrac{U(\\theta)}{k_BT}\\right]$\n",
    "\n",
    "$g(r_{i,j}) \\propto \\exp\\left[-\\dfrac{U(r_{i,j})}{k_BT}\\right]$"
   ]
  }
 ],
 "metadata": {
  "kernelspec": {
   "display_name": "Python 3 (ipykernel)",
   "language": "python",
   "name": "python3"
  },
  "language_info": {
   "codemirror_mode": {
    "name": "ipython",
    "version": 3
   },
   "file_extension": ".py",
   "mimetype": "text/x-python",
   "name": "python",
   "nbconvert_exporter": "python",
   "pygments_lexer": "ipython3",
   "version": "3.9.13"
  }
 },
 "nbformat": 4,
 "nbformat_minor": 5
}
