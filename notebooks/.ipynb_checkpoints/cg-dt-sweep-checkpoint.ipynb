{
 "cells": [
  {
   "cell_type": "code",
   "execution_count": null,
   "id": "905853f6",
   "metadata": {},
   "outputs": [],
   "source": [
    "from cmeutils.dynamics import msd_from_gsd\n",
    "from cmeutils.structure import dihedral_distribution, gsd_rdf\n",
    "from cmeutils.sampling import is_equilibrated, equil_sample\n",
    "\n",
    "import gsd.hoomd\n",
    "import matplotlib.pyplot as plt\n",
    "import matplotlib.cm as cm\n",
    "import numpy as np\n",
    "import signac\n",
    "from scipy.optimize import curve_fit\n",
    "from scipy.stats import linregress\n",
    "\n",
    "import os"
   ]
  },
  {
   "cell_type": "code",
   "execution_count": null,
   "id": "06150a67",
   "metadata": {},
   "outputs": [],
   "source": [
    "# Matplotlib RC Params:    \n",
    "color_dict = {1.0: \"#0F0E0F\", 0.8: \"#666666\", 0.7: \"#964d4d\", 0.6: \"#d03f3f\"}\n",
    "symbol_dict = {1.0: \"o\", 0.8: \"s\", 0.7: \"^\", 0.6: \"d\"}\n",
    "pair_symbol_dict = {\"E-E\": \"o\", \"K-K\": \"s\", \"E-K\": \"^\"}\n",
    "pair_colors = {\"E-E\": \"#00A866\", \"K-K\": \"#008EA8\", \"E-K\": \"#F5AD18\"}\n",
    "plt.rcParams[\"figure.figsize\"] = (3, 3)\n",
    "plt.rcParams[\"axes.labelsize\"] = 12\n",
    "plt.rcParams[\"legend.fontsize\"] = 7\n",
    "plt.rcParams['lines.markersize'] = 3\n",
    "plt.rcParams[\"lines.linestyle\"] = \"-\"\n",
    "plt.rcParams[\"lines.linewidth\"] = 1\n",
    "plt.rcParams[\"figure.dpi\"] = 1200\n",
    "plt.rcParams[\"legend.markerscale\"] = 3"
   ]
  },
  {
   "cell_type": "code",
   "execution_count": null,
   "id": "bb5e4404",
   "metadata": {},
   "outputs": [],
   "source": [
    "project = signac.get_project(\"../coarse-grain-sims/dt-sweep/polybinder-flow/\")"
   ]
  },
  {
   "cell_type": "code",
   "execution_count": null,
   "id": "4c0df36a-219c-4f24-bb34-3ffc920563be",
   "metadata": {},
   "outputs": [],
   "source": [
    "for dt, job in project.find_jobs({\"cg_potentials_dir\": \"msibi-deep\"}).groupby(\"dt\"):\n",
    "    for job in job:\n",
    "        data = np.genfromtxt(job.fn(\"sim_traj.txt\"), names=True)\n",
    "        temp = data[\"mdcomputeThermodynamicQuantitieskinetic_temperature\"]\n",
    "        sample = equil_sample(temp[-5000:])[0]\n",
    "        plt.plot(temp[-5000:], label=dt)\n",
    "        print(job.sp.kT_quench, dt, np.round(np.mean(sample), 4), job.doc.real_timestep)\n",
    "        \n",
    "plt.legend()"
   ]
  }
 ],
 "metadata": {
  "kernelspec": {
   "display_name": "Python 3 (ipykernel)",
   "language": "python",
   "name": "python3"
  },
  "language_info": {
   "codemirror_mode": {
    "name": "ipython",
    "version": 3
   },
   "file_extension": ".py",
   "mimetype": "text/x-python",
   "name": "python",
   "nbconvert_exporter": "python",
   "pygments_lexer": "ipython3",
   "version": "3.11.9"
  }
 },
 "nbformat": 4,
 "nbformat_minor": 5
}
