{
 "cells": [
  {
   "cell_type": "code",
   "execution_count": 27,
   "id": "0c66bca5",
   "metadata": {},
   "outputs": [],
   "source": [
    "from cmeutils.structure import (\n",
    "    bond_distribution,\n",
    "    angle_distribution,\n",
    "    dihedral_distribution,\n",
    "    gsd_rdf,\n",
    "    #persistence_length\n",
    ")\n",
    "from cmeutils.polymers import persistence_length\n",
    "from cmeutils.plotting import get_histogram\n",
    "from cmeutils.sampling import is_equilibrated, equil_sample\n",
    "#from msibi.utils.smoothing import savitzky_golay\n",
    "#from msibi.potentials import linear_head_correction\n",
    "from polybinderCG.coarse_grain import System\n",
    "from utils import radius_of_gyration, end_to_end\n",
    "\n",
    "import gsd.hoomd\n",
    "import matplotlib.pyplot as plt\n",
    "import matplotlib.colors as mcolors\n",
    "import numpy as np\n",
    "import signac\n",
    "\n",
    "\n",
    "import os\n",
    "\n",
    "# Matplotlib RC Params:    \n",
    "color_dict = {1.0: \"#0F0E0F\", 0.8: \"#666666\", 0.7: \"#964d4d\", 0.6: \"#d03f3f\"}\n",
    "plt.rcParams[\"figure.figsize\"] = (3, 3)\n",
    "plt.rcParams[\"axes.labelsize\"] = 12\n",
    "plt.rcParams[\"legend.fontsize\"] = 7\n",
    "plt.rcParams['lines.markersize'] = 2\n",
    "plt.rcParams[\"lines.linestyle\"] = \"-\"\n",
    "plt.rcParams[\"lines.marker\"] = \"o\"\n",
    "plt.rcParams[\"lines.linewidth\"] = 1\n",
    "plt.rcParams[\"figure.dpi\"] = 1200\n",
    "\n",
    "label_conv = {\n",
    "    0.60: \"60/40\",\n",
    "    0.70: \"70/30\",\n",
    "    0.80: \"80/20\",\n",
    "    1.0: \"100/0\",\n",
    "}\n",
    "\n",
    "def hot_to_cold_gradient(n=256):\n",
    "    # Create a colormap from hot to cold\n",
    "    cmap = plt.cm.get_cmap('RdYlBu_r', n)\n",
    "    # Create an array of values from 0 to 1\n",
    "    values = np.linspace(0, 1, n)\n",
    "    # Create a color map using the colormap and values\n",
    "    colors = cmap(values)\n",
    "    return colors"
   ]
  },
  {
   "cell_type": "code",
   "execution_count": 2,
   "id": "52dc156d",
   "metadata": {},
   "outputs": [],
   "source": [
    "project = signac.get_project(\"../coarse-grain-sims/bulk_kt_ti_sweep/polybinder-flow/\")"
   ]
  },
  {
   "cell_type": "code",
   "execution_count": 16,
   "id": "01e1ef0a",
   "metadata": {},
   "outputs": [
    {
     "data": {
      "text/plain": [
       "defaultdict(set,\n",
       "            {float: {0.1,\n",
       "              0.2,\n",
       "              0.3,\n",
       "              0.4,\n",
       "              0.5,\n",
       "              0.6,\n",
       "              0.7,\n",
       "              0.8,\n",
       "              0.9,\n",
       "              1.0,\n",
       "              1.1,\n",
       "              1.2,\n",
       "              1.3,\n",
       "              1.4,\n",
       "              1.5,\n",
       "              1.6,\n",
       "              1.7,\n",
       "              1.8,\n",
       "              1.9,\n",
       "              2.0,\n",
       "              2.2,\n",
       "              2.4,\n",
       "              2.5,\n",
       "              2.6,\n",
       "              2.8,\n",
       "              3.0,\n",
       "              3.2,\n",
       "              3.4,\n",
       "              3.5,\n",
       "              3.6,\n",
       "              3.8,\n",
       "              4.0,\n",
       "              4.5,\n",
       "              5.0,\n",
       "              5.5,\n",
       "              6.0,\n",
       "              6.5}})"
      ]
     },
     "execution_count": 16,
     "metadata": {},
     "output_type": "execute_result"
    }
   ],
   "source": [
    "project.detect_schema()[\"kT_quench\"]"
   ]
  },
  {
   "cell_type": "code",
   "execution_count": null,
   "id": "f9686ec9",
   "metadata": {},
   "outputs": [
    {
     "name": "stderr",
     "output_type": "stream",
     "text": [
      "<>:17: DeprecationWarning: invalid escape sequence \\e\n",
      "<>:17: DeprecationWarning: invalid escape sequence \\e\n",
      "/tmp/ipykernel_16671/2998105917.py:17: DeprecationWarning: invalid escape sequence \\e\n",
      "  plt.ylabel(\"$\\epsilon/N (PE)$\")\n"
     ]
    },
    {
     "name": "stdout",
     "output_type": "stream",
     "text": [
      "0.6\n",
      "[False, None, None, None]\n",
      "\n",
      "0.7\n",
      "[False, None, None, None]\n",
      "\n",
      "0.8\n",
      "[True, 3304, 48.281025, 138.70874]\n",
      "\n"
     ]
    }
   ],
   "source": [
    "kT = 2.2\n",
    "N = 50 * 20 * 3\n",
    "index_cut = 3500\n",
    "fig = plt.figure()\n",
    "\n",
    "for weight, jobs in project.find_jobs({\"cg_potentials_dir\": \"msibi-deep\", \"kT_quench\": kT}).groupby(\"ekk_weight\"):\n",
    "    for job in jobs:\n",
    "        data = np.genfromtxt(job.fn(\"sim_traj.txt\"), names=True)\n",
    "        pe = data[\"mdcomputeThermodynamicQuantitiespotential_energy\"] / N\n",
    "        results = is_equilibrated(data=pe[index_cut:])\n",
    "        print(weight)\n",
    "        print(results)\n",
    "        print()\n",
    "        plt.plot(pe[index_cut:], label=weight)\n",
    "    \n",
    "plt.legend()\n",
    "plt.ylabel(\"$\\epsilon/N (PE)$\")\n",
    "plt.show()"
   ]
  },
  {
   "cell_type": "code",
   "execution_count": null,
   "id": "9fcf952d",
   "metadata": {},
   "outputs": [],
   "source": []
  },
  {
   "cell_type": "code",
   "execution_count": null,
   "id": "21938628",
   "metadata": {},
   "outputs": [],
   "source": []
  }
 ],
 "metadata": {
  "kernelspec": {
   "display_name": "Python 3 (ipykernel)",
   "language": "python",
   "name": "python3"
  },
  "language_info": {
   "codemirror_mode": {
    "name": "ipython",
    "version": 3
   },
   "file_extension": ".py",
   "mimetype": "text/x-python",
   "name": "python",
   "nbconvert_exporter": "python",
   "pygments_lexer": "ipython3",
   "version": "3.9.15"
  }
 },
 "nbformat": 4,
 "nbformat_minor": 5
}
