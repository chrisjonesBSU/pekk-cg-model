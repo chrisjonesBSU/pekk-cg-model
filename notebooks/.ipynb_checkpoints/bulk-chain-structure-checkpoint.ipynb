{
 "cells": [
  {
   "cell_type": "code",
   "execution_count": 1,
   "id": "04efde16",
   "metadata": {},
   "outputs": [],
   "source": [
    "from utils import persistence_length, radius_of_gyration, end_to_end\n",
    "from polybinderCG.coarse_grain import System\n",
    "import signac\n",
    "import matplotlib.pyplot as plt\n",
    "import numpy as np\n",
    "import os\n",
    "from cmeutils.structure import bond_distribution, angle_distribution, dihedral_distribution\n",
    "from cmeutils.plotting import get_histogram\n",
    "from msibi.utils.smoothing import savitzky_golay"
   ]
  },
  {
   "cell_type": "code",
   "execution_count": null,
   "id": "dce0b8b9",
   "metadata": {},
   "outputs": [],
   "source": []
  }
 ],
 "metadata": {
  "kernelspec": {
   "display_name": "Python 3 (ipykernel)",
   "language": "python",
   "name": "python3"
  },
  "language_info": {
   "codemirror_mode": {
    "name": "ipython",
    "version": 3
   },
   "file_extension": ".py",
   "mimetype": "text/x-python",
   "name": "python",
   "nbconvert_exporter": "python",
   "pygments_lexer": "ipython3",
   "version": "3.10.5"
  }
 },
 "nbformat": 4,
 "nbformat_minor": 5
}
